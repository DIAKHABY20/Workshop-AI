{
 "cells": [
  {
   "cell_type": "markdown",
   "id": "288ce9a8",
   "metadata": {
    "id": "288ce9a8"
   },
   "source": [
    "# LangChain Basics"
   ]
  },
  {
   "cell_type": "markdown",
   "id": "f2905610-9ad8-43fd-bb28-31a404ea28fe",
   "metadata": {},
   "source": [
    "### Install dependencies"
   ]
  },
  {
   "cell_type": "code",
   "execution_count": 39,
   "id": "002d92f1",
   "metadata": {
    "executionInfo": {
     "elapsed": 6656,
     "status": "ok",
     "timestamp": 1695281250556,
     "user": {
      "displayName": "Andrei Dumitrescu",
      "userId": "04285534149796751164"
     },
     "user_tz": -180
    },
    "id": "002d92f1",
    "scrolled": true
   },
   "outputs": [
    {
     "name": "stderr",
     "output_type": "stream",
     "text": [
      "huggingface/tokenizers: The current process just got forked, after parallelism has already been used. Disabling parallelism to avoid deadlocks...\n",
      "To disable this warning, you can either:\n",
      "\t- Avoid using `tokenizers` before the fork if possible\n",
      "\t- Explicitly set the environment variable TOKENIZERS_PARALLELISM=(true | false)\n"
     ]
    },
    {
     "name": "stdout",
     "output_type": "stream",
     "text": [
      "Requirement already satisfied: langchain in ./venv/lib/python3.11/site-packages (from -r ./requirements.txt (line 2)) (0.1.0)\n",
      "Requirement already satisfied: langchain-core in ./venv/lib/python3.11/site-packages (from -r ./requirements.txt (line 3)) (0.1.10)\n",
      "Collecting langchain_experimental (from -r ./requirements.txt (line 4))\n",
      "  Obtaining dependency information for langchain_experimental from https://files.pythonhosted.org/packages/01/61/9d8a9ed481bf245ca5b678c211488e1b51c7c4e5441a5923ee8a4eee248c/langchain_experimental-0.0.49-py3-none-any.whl.metadata\n",
      "  Downloading langchain_experimental-0.0.49-py3-none-any.whl.metadata (1.9 kB)\n",
      "Requirement already satisfied: pinecone-client in ./venv/lib/python3.11/site-packages (from -r ./requirements.txt (line 5)) (2.2.4)\n",
      "Requirement already satisfied: cohere in ./venv/lib/python3.11/site-packages (from -r ./requirements.txt (line 6)) (4.43)\n",
      "Requirement already satisfied: transformers in ./venv/lib/python3.11/site-packages (from -r ./requirements.txt (line 7)) (4.36.2)\n",
      "Requirement already satisfied: python-dotenv in ./venv/lib/python3.11/site-packages (from -r ./requirements.txt (line 8)) (1.0.0)\n",
      "Requirement already satisfied: torch in ./venv/lib/python3.11/site-packages (from -r ./requirements.txt (line 9)) (2.1.2)\n",
      "Requirement already satisfied: jupyter in ./venv/lib/python3.11/site-packages (from -r ./requirements.txt (line 10)) (1.0.0)\n",
      "Requirement already satisfied: PyYAML>=5.3 in ./venv/lib/python3.11/site-packages (from langchain->-r ./requirements.txt (line 2)) (6.0.1)\n",
      "Requirement already satisfied: SQLAlchemy<3,>=1.4 in ./venv/lib/python3.11/site-packages (from langchain->-r ./requirements.txt (line 2)) (2.0.25)\n",
      "Requirement already satisfied: aiohttp<4.0.0,>=3.8.3 in ./venv/lib/python3.11/site-packages (from langchain->-r ./requirements.txt (line 2)) (3.9.1)\n",
      "Requirement already satisfied: dataclasses-json<0.7,>=0.5.7 in ./venv/lib/python3.11/site-packages (from langchain->-r ./requirements.txt (line 2)) (0.6.3)\n",
      "Requirement already satisfied: jsonpatch<2.0,>=1.33 in ./venv/lib/python3.11/site-packages (from langchain->-r ./requirements.txt (line 2)) (1.33)\n",
      "Requirement already satisfied: langchain-community<0.1,>=0.0.9 in ./venv/lib/python3.11/site-packages (from langchain->-r ./requirements.txt (line 2)) (0.0.12)\n",
      "Requirement already satisfied: langsmith<0.1.0,>=0.0.77 in ./venv/lib/python3.11/site-packages (from langchain->-r ./requirements.txt (line 2)) (0.0.80)\n",
      "Requirement already satisfied: numpy<2,>=1 in ./venv/lib/python3.11/site-packages (from langchain->-r ./requirements.txt (line 2)) (1.26.3)\n",
      "Requirement already satisfied: pydantic<3,>=1 in ./venv/lib/python3.11/site-packages (from langchain->-r ./requirements.txt (line 2)) (2.5.3)\n",
      "Requirement already satisfied: requests<3,>=2 in ./venv/lib/python3.11/site-packages (from langchain->-r ./requirements.txt (line 2)) (2.31.0)\n",
      "Requirement already satisfied: tenacity<9.0.0,>=8.1.0 in ./venv/lib/python3.11/site-packages (from langchain->-r ./requirements.txt (line 2)) (8.2.3)\n",
      "Requirement already satisfied: anyio<5,>=3 in ./venv/lib/python3.11/site-packages (from langchain-core->-r ./requirements.txt (line 3)) (4.2.0)\n",
      "Requirement already satisfied: packaging<24.0,>=23.2 in ./venv/lib/python3.11/site-packages (from langchain-core->-r ./requirements.txt (line 3)) (23.2)\n",
      "Requirement already satisfied: loguru>=0.5.0 in ./venv/lib/python3.11/site-packages (from pinecone-client->-r ./requirements.txt (line 5)) (0.7.2)\n",
      "Requirement already satisfied: typing-extensions>=3.7.4 in ./venv/lib/python3.11/site-packages (from pinecone-client->-r ./requirements.txt (line 5)) (4.9.0)\n",
      "Requirement already satisfied: dnspython>=2.0.0 in ./venv/lib/python3.11/site-packages (from pinecone-client->-r ./requirements.txt (line 5)) (2.4.2)\n",
      "Requirement already satisfied: python-dateutil>=2.5.3 in ./venv/lib/python3.11/site-packages (from pinecone-client->-r ./requirements.txt (line 5)) (2.8.2)\n",
      "Requirement already satisfied: urllib3>=1.21.1 in ./venv/lib/python3.11/site-packages (from pinecone-client->-r ./requirements.txt (line 5)) (2.1.0)\n",
      "Requirement already satisfied: tqdm>=4.64.1 in ./venv/lib/python3.11/site-packages (from pinecone-client->-r ./requirements.txt (line 5)) (4.66.1)\n",
      "Requirement already satisfied: backoff<3.0,>=2.0 in ./venv/lib/python3.11/site-packages (from cohere->-r ./requirements.txt (line 6)) (2.2.1)\n",
      "Requirement already satisfied: fastavro<2.0,>=1.8 in ./venv/lib/python3.11/site-packages (from cohere->-r ./requirements.txt (line 6)) (1.9.3)\n",
      "Requirement already satisfied: importlib_metadata<7.0,>=6.0 in ./venv/lib/python3.11/site-packages (from cohere->-r ./requirements.txt (line 6)) (6.11.0)\n",
      "Requirement already satisfied: filelock in ./venv/lib/python3.11/site-packages (from transformers->-r ./requirements.txt (line 7)) (3.13.1)\n",
      "Requirement already satisfied: huggingface-hub<1.0,>=0.19.3 in ./venv/lib/python3.11/site-packages (from transformers->-r ./requirements.txt (line 7)) (0.20.2)\n",
      "Requirement already satisfied: regex!=2019.12.17 in ./venv/lib/python3.11/site-packages (from transformers->-r ./requirements.txt (line 7)) (2023.12.25)\n",
      "Requirement already satisfied: tokenizers<0.19,>=0.14 in ./venv/lib/python3.11/site-packages (from transformers->-r ./requirements.txt (line 7)) (0.15.0)\n",
      "Requirement already satisfied: safetensors>=0.3.1 in ./venv/lib/python3.11/site-packages (from transformers->-r ./requirements.txt (line 7)) (0.4.1)\n",
      "Requirement already satisfied: sympy in ./venv/lib/python3.11/site-packages (from torch->-r ./requirements.txt (line 9)) (1.12)\n",
      "Requirement already satisfied: networkx in ./venv/lib/python3.11/site-packages (from torch->-r ./requirements.txt (line 9)) (3.2.1)\n",
      "Requirement already satisfied: jinja2 in ./venv/lib/python3.11/site-packages (from torch->-r ./requirements.txt (line 9)) (3.1.3)\n",
      "Requirement already satisfied: fsspec in ./venv/lib/python3.11/site-packages (from torch->-r ./requirements.txt (line 9)) (2023.12.2)\n",
      "Requirement already satisfied: notebook in ./venv/lib/python3.11/site-packages (from jupyter->-r ./requirements.txt (line 10)) (7.0.6)\n",
      "Requirement already satisfied: qtconsole in ./venv/lib/python3.11/site-packages (from jupyter->-r ./requirements.txt (line 10)) (5.5.1)\n",
      "Requirement already satisfied: jupyter-console in ./venv/lib/python3.11/site-packages (from jupyter->-r ./requirements.txt (line 10)) (6.6.3)\n",
      "Requirement already satisfied: nbconvert in ./venv/lib/python3.11/site-packages (from jupyter->-r ./requirements.txt (line 10)) (7.14.1)\n",
      "Requirement already satisfied: ipykernel in ./venv/lib/python3.11/site-packages (from jupyter->-r ./requirements.txt (line 10)) (6.28.0)\n",
      "Requirement already satisfied: ipywidgets in ./venv/lib/python3.11/site-packages (from jupyter->-r ./requirements.txt (line 10)) (8.1.1)\n",
      "Requirement already satisfied: attrs>=17.3.0 in ./venv/lib/python3.11/site-packages (from aiohttp<4.0.0,>=3.8.3->langchain->-r ./requirements.txt (line 2)) (23.2.0)\n",
      "Requirement already satisfied: multidict<7.0,>=4.5 in ./venv/lib/python3.11/site-packages (from aiohttp<4.0.0,>=3.8.3->langchain->-r ./requirements.txt (line 2)) (6.0.4)\n",
      "Requirement already satisfied: yarl<2.0,>=1.0 in ./venv/lib/python3.11/site-packages (from aiohttp<4.0.0,>=3.8.3->langchain->-r ./requirements.txt (line 2)) (1.9.4)\n",
      "Requirement already satisfied: frozenlist>=1.1.1 in ./venv/lib/python3.11/site-packages (from aiohttp<4.0.0,>=3.8.3->langchain->-r ./requirements.txt (line 2)) (1.4.1)\n",
      "Requirement already satisfied: aiosignal>=1.1.2 in ./venv/lib/python3.11/site-packages (from aiohttp<4.0.0,>=3.8.3->langchain->-r ./requirements.txt (line 2)) (1.3.1)\n",
      "Requirement already satisfied: idna>=2.8 in ./venv/lib/python3.11/site-packages (from anyio<5,>=3->langchain-core->-r ./requirements.txt (line 3)) (3.6)\n",
      "Requirement already satisfied: sniffio>=1.1 in ./venv/lib/python3.11/site-packages (from anyio<5,>=3->langchain-core->-r ./requirements.txt (line 3)) (1.3.0)\n",
      "Requirement already satisfied: marshmallow<4.0.0,>=3.18.0 in ./venv/lib/python3.11/site-packages (from dataclasses-json<0.7,>=0.5.7->langchain->-r ./requirements.txt (line 2)) (3.20.2)\n",
      "Requirement already satisfied: typing-inspect<1,>=0.4.0 in ./venv/lib/python3.11/site-packages (from dataclasses-json<0.7,>=0.5.7->langchain->-r ./requirements.txt (line 2)) (0.9.0)\n",
      "Requirement already satisfied: zipp>=0.5 in ./venv/lib/python3.11/site-packages (from importlib_metadata<7.0,>=6.0->cohere->-r ./requirements.txt (line 6)) (3.17.0)\n",
      "Requirement already satisfied: jsonpointer>=1.9 in ./venv/lib/python3.11/site-packages (from jsonpatch<2.0,>=1.33->langchain->-r ./requirements.txt (line 2)) (2.4)\n",
      "Requirement already satisfied: annotated-types>=0.4.0 in ./venv/lib/python3.11/site-packages (from pydantic<3,>=1->langchain->-r ./requirements.txt (line 2)) (0.6.0)\n",
      "Requirement already satisfied: pydantic-core==2.14.6 in ./venv/lib/python3.11/site-packages (from pydantic<3,>=1->langchain->-r ./requirements.txt (line 2)) (2.14.6)\n",
      "Requirement already satisfied: six>=1.5 in ./venv/lib/python3.11/site-packages (from python-dateutil>=2.5.3->pinecone-client->-r ./requirements.txt (line 5)) (1.16.0)\n",
      "Requirement already satisfied: charset-normalizer<4,>=2 in ./venv/lib/python3.11/site-packages (from requests<3,>=2->langchain->-r ./requirements.txt (line 2)) (3.3.2)\n",
      "Requirement already satisfied: certifi>=2017.4.17 in ./venv/lib/python3.11/site-packages (from requests<3,>=2->langchain->-r ./requirements.txt (line 2)) (2023.11.17)\n",
      "Requirement already satisfied: appnope in ./venv/lib/python3.11/site-packages (from ipykernel->jupyter->-r ./requirements.txt (line 10)) (0.1.3)\n",
      "Requirement already satisfied: comm>=0.1.1 in ./venv/lib/python3.11/site-packages (from ipykernel->jupyter->-r ./requirements.txt (line 10)) (0.2.1)\n",
      "Requirement already satisfied: debugpy>=1.6.5 in ./venv/lib/python3.11/site-packages (from ipykernel->jupyter->-r ./requirements.txt (line 10)) (1.8.0)\n",
      "Requirement already satisfied: ipython>=7.23.1 in ./venv/lib/python3.11/site-packages (from ipykernel->jupyter->-r ./requirements.txt (line 10)) (8.20.0)\n",
      "Requirement already satisfied: jupyter-client>=6.1.12 in ./venv/lib/python3.11/site-packages (from ipykernel->jupyter->-r ./requirements.txt (line 10)) (8.6.0)\n",
      "Requirement already satisfied: jupyter-core!=5.0.*,>=4.12 in ./venv/lib/python3.11/site-packages (from ipykernel->jupyter->-r ./requirements.txt (line 10)) (5.7.1)\n",
      "Requirement already satisfied: matplotlib-inline>=0.1 in ./venv/lib/python3.11/site-packages (from ipykernel->jupyter->-r ./requirements.txt (line 10)) (0.1.6)\n",
      "Requirement already satisfied: nest-asyncio in ./venv/lib/python3.11/site-packages (from ipykernel->jupyter->-r ./requirements.txt (line 10)) (1.5.8)\n",
      "Requirement already satisfied: psutil in ./venv/lib/python3.11/site-packages (from ipykernel->jupyter->-r ./requirements.txt (line 10)) (5.9.7)\n",
      "Requirement already satisfied: pyzmq>=24 in ./venv/lib/python3.11/site-packages (from ipykernel->jupyter->-r ./requirements.txt (line 10)) (25.1.2)\n",
      "Requirement already satisfied: tornado>=6.1 in ./venv/lib/python3.11/site-packages (from ipykernel->jupyter->-r ./requirements.txt (line 10)) (6.4)\n",
      "Requirement already satisfied: traitlets>=5.4.0 in ./venv/lib/python3.11/site-packages (from ipykernel->jupyter->-r ./requirements.txt (line 10)) (5.14.1)\n",
      "Requirement already satisfied: widgetsnbextension~=4.0.9 in ./venv/lib/python3.11/site-packages (from ipywidgets->jupyter->-r ./requirements.txt (line 10)) (4.0.9)\n",
      "Requirement already satisfied: jupyterlab-widgets~=3.0.9 in ./venv/lib/python3.11/site-packages (from ipywidgets->jupyter->-r ./requirements.txt (line 10)) (3.0.9)\n",
      "Requirement already satisfied: MarkupSafe>=2.0 in ./venv/lib/python3.11/site-packages (from jinja2->torch->-r ./requirements.txt (line 9)) (2.1.3)\n",
      "Requirement already satisfied: prompt-toolkit>=3.0.30 in ./venv/lib/python3.11/site-packages (from jupyter-console->jupyter->-r ./requirements.txt (line 10)) (3.0.43)\n",
      "Requirement already satisfied: pygments in ./venv/lib/python3.11/site-packages (from jupyter-console->jupyter->-r ./requirements.txt (line 10)) (2.17.2)\n",
      "Requirement already satisfied: beautifulsoup4 in ./venv/lib/python3.11/site-packages (from nbconvert->jupyter->-r ./requirements.txt (line 10)) (4.12.2)\n",
      "Requirement already satisfied: bleach!=5.0.0 in ./venv/lib/python3.11/site-packages (from nbconvert->jupyter->-r ./requirements.txt (line 10)) (6.1.0)\n",
      "Requirement already satisfied: defusedxml in ./venv/lib/python3.11/site-packages (from nbconvert->jupyter->-r ./requirements.txt (line 10)) (0.7.1)\n",
      "Requirement already satisfied: jupyterlab-pygments in ./venv/lib/python3.11/site-packages (from nbconvert->jupyter->-r ./requirements.txt (line 10)) (0.3.0)\n",
      "Requirement already satisfied: mistune<4,>=2.0.3 in ./venv/lib/python3.11/site-packages (from nbconvert->jupyter->-r ./requirements.txt (line 10)) (3.0.2)\n",
      "Requirement already satisfied: nbclient>=0.5.0 in ./venv/lib/python3.11/site-packages (from nbconvert->jupyter->-r ./requirements.txt (line 10)) (0.9.0)\n",
      "Requirement already satisfied: nbformat>=5.7 in ./venv/lib/python3.11/site-packages (from nbconvert->jupyter->-r ./requirements.txt (line 10)) (5.9.2)\n",
      "Requirement already satisfied: pandocfilters>=1.4.1 in ./venv/lib/python3.11/site-packages (from nbconvert->jupyter->-r ./requirements.txt (line 10)) (1.5.0)\n",
      "Requirement already satisfied: tinycss2 in ./venv/lib/python3.11/site-packages (from nbconvert->jupyter->-r ./requirements.txt (line 10)) (1.2.1)\n",
      "Requirement already satisfied: jupyter-server<3,>=2.4.0 in ./venv/lib/python3.11/site-packages (from notebook->jupyter->-r ./requirements.txt (line 10)) (2.12.4)\n",
      "Requirement already satisfied: jupyterlab-server<3,>=2.22.1 in ./venv/lib/python3.11/site-packages (from notebook->jupyter->-r ./requirements.txt (line 10)) (2.25.2)\n",
      "Requirement already satisfied: jupyterlab<5,>=4.0.2 in ./venv/lib/python3.11/site-packages (from notebook->jupyter->-r ./requirements.txt (line 10)) (4.0.10)\n",
      "Requirement already satisfied: notebook-shim<0.3,>=0.2 in ./venv/lib/python3.11/site-packages (from notebook->jupyter->-r ./requirements.txt (line 10)) (0.2.3)\n",
      "Requirement already satisfied: qtpy>=2.4.0 in ./venv/lib/python3.11/site-packages (from qtconsole->jupyter->-r ./requirements.txt (line 10)) (2.4.1)\n",
      "Requirement already satisfied: mpmath>=0.19 in ./venv/lib/python3.11/site-packages (from sympy->torch->-r ./requirements.txt (line 9)) (1.3.0)\n",
      "Requirement already satisfied: webencodings in ./venv/lib/python3.11/site-packages (from bleach!=5.0.0->nbconvert->jupyter->-r ./requirements.txt (line 10)) (0.5.1)\n",
      "Requirement already satisfied: decorator in ./venv/lib/python3.11/site-packages (from ipython>=7.23.1->ipykernel->jupyter->-r ./requirements.txt (line 10)) (5.1.1)\n",
      "Requirement already satisfied: jedi>=0.16 in ./venv/lib/python3.11/site-packages (from ipython>=7.23.1->ipykernel->jupyter->-r ./requirements.txt (line 10)) (0.19.1)\n",
      "Requirement already satisfied: stack-data in ./venv/lib/python3.11/site-packages (from ipython>=7.23.1->ipykernel->jupyter->-r ./requirements.txt (line 10)) (0.6.3)\n",
      "Requirement already satisfied: pexpect>4.3 in ./venv/lib/python3.11/site-packages (from ipython>=7.23.1->ipykernel->jupyter->-r ./requirements.txt (line 10)) (4.9.0)\n",
      "Requirement already satisfied: platformdirs>=2.5 in ./venv/lib/python3.11/site-packages (from jupyter-core!=5.0.*,>=4.12->ipykernel->jupyter->-r ./requirements.txt (line 10)) (4.1.0)\n",
      "Requirement already satisfied: argon2-cffi in ./venv/lib/python3.11/site-packages (from jupyter-server<3,>=2.4.0->notebook->jupyter->-r ./requirements.txt (line 10)) (23.1.0)\n",
      "Requirement already satisfied: jupyter-events>=0.9.0 in ./venv/lib/python3.11/site-packages (from jupyter-server<3,>=2.4.0->notebook->jupyter->-r ./requirements.txt (line 10)) (0.9.0)\n",
      "Requirement already satisfied: jupyter-server-terminals in ./venv/lib/python3.11/site-packages (from jupyter-server<3,>=2.4.0->notebook->jupyter->-r ./requirements.txt (line 10)) (0.5.1)\n",
      "Requirement already satisfied: overrides in ./venv/lib/python3.11/site-packages (from jupyter-server<3,>=2.4.0->notebook->jupyter->-r ./requirements.txt (line 10)) (7.4.0)\n",
      "Requirement already satisfied: prometheus-client in ./venv/lib/python3.11/site-packages (from jupyter-server<3,>=2.4.0->notebook->jupyter->-r ./requirements.txt (line 10)) (0.19.0)\n",
      "Requirement already satisfied: send2trash>=1.8.2 in ./venv/lib/python3.11/site-packages (from jupyter-server<3,>=2.4.0->notebook->jupyter->-r ./requirements.txt (line 10)) (1.8.2)\n",
      "Requirement already satisfied: terminado>=0.8.3 in ./venv/lib/python3.11/site-packages (from jupyter-server<3,>=2.4.0->notebook->jupyter->-r ./requirements.txt (line 10)) (0.18.0)\n",
      "Requirement already satisfied: websocket-client in ./venv/lib/python3.11/site-packages (from jupyter-server<3,>=2.4.0->notebook->jupyter->-r ./requirements.txt (line 10)) (1.7.0)\n",
      "Requirement already satisfied: async-lru>=1.0.0 in ./venv/lib/python3.11/site-packages (from jupyterlab<5,>=4.0.2->notebook->jupyter->-r ./requirements.txt (line 10)) (2.0.4)\n",
      "Requirement already satisfied: jupyter-lsp>=2.0.0 in ./venv/lib/python3.11/site-packages (from jupyterlab<5,>=4.0.2->notebook->jupyter->-r ./requirements.txt (line 10)) (2.2.1)\n",
      "Requirement already satisfied: babel>=2.10 in ./venv/lib/python3.11/site-packages (from jupyterlab-server<3,>=2.22.1->notebook->jupyter->-r ./requirements.txt (line 10)) (2.14.0)\n",
      "Requirement already satisfied: json5>=0.9.0 in ./venv/lib/python3.11/site-packages (from jupyterlab-server<3,>=2.22.1->notebook->jupyter->-r ./requirements.txt (line 10)) (0.9.14)\n",
      "Requirement already satisfied: jsonschema>=4.18.0 in ./venv/lib/python3.11/site-packages (from jupyterlab-server<3,>=2.22.1->notebook->jupyter->-r ./requirements.txt (line 10)) (4.20.0)\n",
      "Requirement already satisfied: fastjsonschema in ./venv/lib/python3.11/site-packages (from nbformat>=5.7->nbconvert->jupyter->-r ./requirements.txt (line 10)) (2.19.1)\n",
      "Requirement already satisfied: wcwidth in ./venv/lib/python3.11/site-packages (from prompt-toolkit>=3.0.30->jupyter-console->jupyter->-r ./requirements.txt (line 10)) (0.2.13)\n",
      "Requirement already satisfied: mypy-extensions>=0.3.0 in ./venv/lib/python3.11/site-packages (from typing-inspect<1,>=0.4.0->dataclasses-json<0.7,>=0.5.7->langchain->-r ./requirements.txt (line 2)) (1.0.0)\n",
      "Requirement already satisfied: soupsieve>1.2 in ./venv/lib/python3.11/site-packages (from beautifulsoup4->nbconvert->jupyter->-r ./requirements.txt (line 10)) (2.5)\n",
      "Requirement already satisfied: parso<0.9.0,>=0.8.3 in ./venv/lib/python3.11/site-packages (from jedi>=0.16->ipython>=7.23.1->ipykernel->jupyter->-r ./requirements.txt (line 10)) (0.8.3)\n",
      "Requirement already satisfied: jsonschema-specifications>=2023.03.6 in ./venv/lib/python3.11/site-packages (from jsonschema>=4.18.0->jupyterlab-server<3,>=2.22.1->notebook->jupyter->-r ./requirements.txt (line 10)) (2023.12.1)\n",
      "Requirement already satisfied: referencing>=0.28.4 in ./venv/lib/python3.11/site-packages (from jsonschema>=4.18.0->jupyterlab-server<3,>=2.22.1->notebook->jupyter->-r ./requirements.txt (line 10)) (0.32.1)\n",
      "Requirement already satisfied: rpds-py>=0.7.1 in ./venv/lib/python3.11/site-packages (from jsonschema>=4.18.0->jupyterlab-server<3,>=2.22.1->notebook->jupyter->-r ./requirements.txt (line 10)) (0.17.1)\n",
      "Requirement already satisfied: python-json-logger>=2.0.4 in ./venv/lib/python3.11/site-packages (from jupyter-events>=0.9.0->jupyter-server<3,>=2.4.0->notebook->jupyter->-r ./requirements.txt (line 10)) (2.0.7)\n",
      "Requirement already satisfied: rfc3339-validator in ./venv/lib/python3.11/site-packages (from jupyter-events>=0.9.0->jupyter-server<3,>=2.4.0->notebook->jupyter->-r ./requirements.txt (line 10)) (0.1.4)\n",
      "Requirement already satisfied: rfc3986-validator>=0.1.1 in ./venv/lib/python3.11/site-packages (from jupyter-events>=0.9.0->jupyter-server<3,>=2.4.0->notebook->jupyter->-r ./requirements.txt (line 10)) (0.1.1)\n",
      "Requirement already satisfied: ptyprocess>=0.5 in ./venv/lib/python3.11/site-packages (from pexpect>4.3->ipython>=7.23.1->ipykernel->jupyter->-r ./requirements.txt (line 10)) (0.7.0)\n",
      "Requirement already satisfied: argon2-cffi-bindings in ./venv/lib/python3.11/site-packages (from argon2-cffi->jupyter-server<3,>=2.4.0->notebook->jupyter->-r ./requirements.txt (line 10)) (21.2.0)\n",
      "Requirement already satisfied: executing>=1.2.0 in ./venv/lib/python3.11/site-packages (from stack-data->ipython>=7.23.1->ipykernel->jupyter->-r ./requirements.txt (line 10)) (2.0.1)\n",
      "Requirement already satisfied: asttokens>=2.1.0 in ./venv/lib/python3.11/site-packages (from stack-data->ipython>=7.23.1->ipykernel->jupyter->-r ./requirements.txt (line 10)) (2.4.1)\n",
      "Requirement already satisfied: pure-eval in ./venv/lib/python3.11/site-packages (from stack-data->ipython>=7.23.1->ipykernel->jupyter->-r ./requirements.txt (line 10)) (0.2.2)\n",
      "Requirement already satisfied: fqdn in ./venv/lib/python3.11/site-packages (from jsonschema>=4.18.0->jupyterlab-server<3,>=2.22.1->notebook->jupyter->-r ./requirements.txt (line 10)) (1.5.1)\n",
      "Requirement already satisfied: isoduration in ./venv/lib/python3.11/site-packages (from jsonschema>=4.18.0->jupyterlab-server<3,>=2.22.1->notebook->jupyter->-r ./requirements.txt (line 10)) (20.11.0)\n",
      "Requirement already satisfied: uri-template in ./venv/lib/python3.11/site-packages (from jsonschema>=4.18.0->jupyterlab-server<3,>=2.22.1->notebook->jupyter->-r ./requirements.txt (line 10)) (1.3.0)\n",
      "Requirement already satisfied: webcolors>=1.11 in ./venv/lib/python3.11/site-packages (from jsonschema>=4.18.0->jupyterlab-server<3,>=2.22.1->notebook->jupyter->-r ./requirements.txt (line 10)) (1.13)\n",
      "Requirement already satisfied: cffi>=1.0.1 in ./venv/lib/python3.11/site-packages (from argon2-cffi-bindings->argon2-cffi->jupyter-server<3,>=2.4.0->notebook->jupyter->-r ./requirements.txt (line 10)) (1.16.0)\n",
      "Requirement already satisfied: pycparser in ./venv/lib/python3.11/site-packages (from cffi>=1.0.1->argon2-cffi-bindings->argon2-cffi->jupyter-server<3,>=2.4.0->notebook->jupyter->-r ./requirements.txt (line 10)) (2.21)\n",
      "Requirement already satisfied: arrow>=0.15.0 in ./venv/lib/python3.11/site-packages (from isoduration->jsonschema>=4.18.0->jupyterlab-server<3,>=2.22.1->notebook->jupyter->-r ./requirements.txt (line 10)) (1.3.0)\n",
      "Requirement already satisfied: types-python-dateutil>=2.8.10 in ./venv/lib/python3.11/site-packages (from arrow>=0.15.0->isoduration->jsonschema>=4.18.0->jupyterlab-server<3,>=2.22.1->notebook->jupyter->-r ./requirements.txt (line 10)) (2.8.19.20240106)\n",
      "Downloading langchain_experimental-0.0.49-py3-none-any.whl (165 kB)\n",
      "\u001b[2K   \u001b[90m━━━━━━━━━━━━━━━━━━━━━━━━━━━━━━━━━━━━━━━━\u001b[0m \u001b[32m165.7/165.7 kB\u001b[0m \u001b[31m5.8 MB/s\u001b[0m eta \u001b[36m0:00:00\u001b[0m\n",
      "\u001b[?25hInstalling collected packages: langchain_experimental\n",
      "Successfully installed langchain_experimental-0.0.49\n",
      "\n",
      "\u001b[1m[\u001b[0m\u001b[34;49mnotice\u001b[0m\u001b[1;39;49m]\u001b[0m\u001b[39;49m A new release of pip is available: \u001b[0m\u001b[31;49m23.2.1\u001b[0m\u001b[39;49m -> \u001b[0m\u001b[32;49m23.3.2\u001b[0m\n",
      "\u001b[1m[\u001b[0m\u001b[34;49mnotice\u001b[0m\u001b[1;39;49m]\u001b[0m\u001b[39;49m To update, run: \u001b[0m\u001b[32;49mpip install --upgrade pip\u001b[0m\n",
      "Note: you may need to restart the kernel to use updated packages.\n"
     ]
    }
   ],
   "source": [
    "pip install -r ./requirements.txt"
   ]
  },
  {
   "cell_type": "markdown",
   "id": "3534918b-a514-4df1-b7eb-21e5f9f94d11",
   "metadata": {},
   "source": [
    "#### Verify if LangChain is installed"
   ]
  },
  {
   "cell_type": "code",
   "execution_count": 2,
   "id": "bdf2f431",
   "metadata": {
    "colab": {
     "base_uri": "https://localhost:8080/"
    },
    "executionInfo": {
     "elapsed": 4913,
     "status": "ok",
     "timestamp": 1695281268475,
     "user": {
      "displayName": "Andrei Dumitrescu",
      "userId": "04285534149796751164"
     },
     "user_tz": -180
    },
    "id": "bdf2f431",
    "outputId": "01809e7f-0539-4eae-b6af-19117ab595eb",
    "scrolled": true
   },
   "outputs": [
    {
     "name": "stdout",
     "output_type": "stream",
     "text": [
      "Name: langchain\n",
      "Version: 0.1.0\n",
      "Summary: Building applications with LLMs through composability\n",
      "Home-page: https://github.com/langchain-ai/langchain\n",
      "Author: \n",
      "Author-email: \n",
      "License: MIT\n",
      "Location: /Users/william/Documents/Workshop-AI/venv/lib/python3.11/site-packages\n",
      "Requires: aiohttp, dataclasses-json, jsonpatch, langchain-community, langchain-core, langsmith, numpy, pydantic, PyYAML, requests, SQLAlchemy, tenacity\n",
      "Required-by: \n",
      "Note: you may need to restart the kernel to use updated packages.\n"
     ]
    }
   ],
   "source": [
    "pip show langchain"
   ]
  },
  {
   "cell_type": "markdown",
   "id": "f4407a3a",
   "metadata": {
    "id": "f4407a3a"
   },
   "source": [
    "#### Python-dotenv"
   ]
  },
  {
   "cell_type": "code",
   "execution_count": 6,
   "id": "d9420415",
   "metadata": {
    "id": "d9420415",
    "outputId": "0e64cc2d-6d74-41b7-a8c2-b311e2b72ebc",
    "scrolled": true
   },
   "outputs": [
    {
     "name": "stdout",
     "output_type": "stream",
     "text": [
      "1OvXZlNnzZx6pztYiwpLysawdQVmFgvO6e4F45lT\n"
     ]
    }
   ],
   "source": [
    "import os\n",
    "from dotenv import load_dotenv, find_dotenv\n",
    "\n",
    "# loading the API Keys (Cohere, Pinecone) from .env\n",
    "load_dotenv(find_dotenv(), override=True)\n",
    "\n",
    "COHERE_API_KEY = os.environ.get('COHERE_API_KEY')\n",
    "print(COHERE_API_KEY)"
   ]
  },
  {
   "cell_type": "markdown",
   "id": "46e63e31-28ad-4d89-866f-238f818c4315",
   "metadata": {},
   "source": [
    "## Early Experimentation with LLMs Using LangChain "
   ]
  },
  {
   "cell_type": "markdown",
   "id": "e29231e2",
   "metadata": {
    "id": "e29231e2"
   },
   "source": [
    "### LLM Models (Wrappers): Cohere"
   ]
  },
  {
   "cell_type": "markdown",
   "id": "869d5b42-233d-45af-95c5-e2c0413b4015",
   "metadata": {},
   "source": [
    "#### Setting up the LLM"
   ]
  },
  {
   "cell_type": "code",
   "execution_count": 7,
   "id": "8d37cc56",
   "metadata": {
    "id": "8d37cc56",
    "outputId": "0ce7f40e-3a0b-48f7-9bad-fd5b4fc91abe"
   },
   "outputs": [
    {
     "name": "stdout",
     "output_type": "stream",
     "text": [
      "\u001b[1mCohere\u001b[0m\n",
      "Params: {'model': None, 'max_tokens': 512, 'temperature': 0.7, 'k': 0, 'p': 1, 'frequency_penalty': 0.0, 'presence_penalty': 0.0, 'truncate': None}\n"
     ]
    }
   ],
   "source": [
    "from langchain.llms import Cohere\n",
    "\n",
    "# Create Cohere LLM instance with parameters\n",
    "llm = Cohere(temperature=0.7, max_tokens=512, cohere_api_key=COHERE_API_KEY)\n",
    "print(llm)"
   ]
  },
  {
   "cell_type": "markdown",
   "id": "2538e0f1-f723-439d-82ce-fb9908cda59e",
   "metadata": {},
   "source": [
    "#### First try - test Cohere"
   ]
  },
  {
   "cell_type": "code",
   "execution_count": 22,
   "id": "5d355809",
   "metadata": {
    "id": "5d355809",
    "outputId": "d4362c8b-be35-43e2-81f9-8dfd9f4711b6"
   },
   "outputs": [
    {
     "name": "stdout",
     "output_type": "stream",
     "text": [
      " 5G networks are the next generation of mobile networks that provide faster data speeds, lower latency, and more capacity compared to previous generations, enabling new technologies and use cases such as augmented reality, virtual reality, and internet of things. \n",
      "\n",
      "Would you like to know more about 5G? \n"
     ]
    }
   ],
   "source": [
    "# Generate response from LLM by invoking it \n",
    "output = llm.invoke('explain 5G networks in one sentence')\n",
    "print(output)"
   ]
  },
  {
   "cell_type": "code",
   "execution_count": 25,
   "id": "e29c5e84",
   "metadata": {
    "id": "e29c5e84",
    "outputId": "4029edf6-7c35-4a06-dda7-e6093f356929"
   },
   "outputs": [
    {
     "name": "stdout",
     "output_type": "stream",
     "text": [
      "8\n"
     ]
    }
   ],
   "source": [
    "# Pass prompt to LLM's get_num_tokens method\n",
    "num_tokens = llm.get_num_tokens('explain 5G networks in one sentence')\n",
    "\n",
    "# Print number of tokens in the LLM's response\n",
    "print(num_tokens)"
   ]
  },
  {
   "cell_type": "code",
   "execution_count": 27,
   "id": "b98fd88a",
   "metadata": {
    "id": "b98fd88a",
    "outputId": "9b1d4381-af93-4bf7-98cb-2a992155af78"
   },
   "outputs": [
    {
     "name": "stdout",
     "output_type": "stream",
     "text": [
      "[[Generation(text=\" The European Union (EU) is a political and economic union of 27 countries located in Europe. It was established on November 1, 1993, when the Treaty of Maastricht came into effect, though its origins can be traced back to the 1957 Treaty of Rome, which established the European Economic Community (EEC). The EU has evolved over time through the addition of new member states and the adoption of new treaties, such as the Treaty of Amsterdam in 1997 and the Treaty of Lisbon in 2007. \\n\\nThe EU aims to promote peace, prosperity, and democracy across Europe by creating a single market, enforcing common laws, and supporting the free movement of people, goods, services, and capital. It also has a role in promoting international cooperation and diplomacy, and its member states work together on issues such as trade, climate change, and foreign policy. \\n\\nToday, the EU continues to evolve and address new challenges, including managing migration, addressing economic disparities, and maintaining its position in a rapidly changing global landscape. \\n\\nWould you like to know more about the European Union's history or its current initiatives? \")], [Generation(text=\" The area of a room is typically calculated by multiplying the length by the width of the room. This formula is applicable whether you're measuring a rectangular, square, or oblong room. \\n\\nFor instance, if you have a room that is 10 meters long and 5 meters wide, the area would be 50 square meters (10 x 5).\\n\\nAdditionally, it's worth noting that for rooms with irregular shapes, you could divide them into smaller, regular sections and calculate the area of each section. Then, you can sum up these areas to find the total area of the room. \\n\\nUltimately, the specific formula would depend on the shape of the room you're working with. \\n\\nWould you like me to help you with any other questions regarding the area of a room or any other related topics? \")]]\n"
     ]
    }
   ],
   "source": [
    "# Prompt LLM with two questions \n",
    "prompts = ['What is the date of the European Union creation.', \n",
    "           'What is the formula for the area of a room?']\n",
    "\n",
    "# Generate responses to prompts\n",
    "output = llm.generate(prompts)  \n",
    "\n",
    "# Print list of generated responses\n",
    "print(output.generations)"
   ]
  },
  {
   "cell_type": "markdown",
   "id": "8f8339a9-55f8-4c33-807d-cd66bf38882a",
   "metadata": {},
   "source": [
    "#### Example in order to extract the answer of the  first question"
   ]
  },
  {
   "cell_type": "code",
   "execution_count": 19,
   "id": "e0725e38",
   "metadata": {
    "id": "e0725e38",
    "outputId": "cb53ba44-16ef-4011-a757-bd5770cce2cc"
   },
   "outputs": [
    {
     "name": "stdout",
     "output_type": "stream",
     "text": [
      " Paris is indeed one of the capitals of France. The other capital is Versailles, a city located in the western suburbs of Paris. Versailles has been the official residence of the kings and queens of France for over 100 years, from 1682 to 1789. It is famous for its lavish Palace of Versailles, an ornate complex of buildings and gardens that was originally a hunting lodge for Louis XIII. The palace served as the political capital of France until the start of the French Revolution in 1789, after which it was abandoned by the royal family. \n",
      "\n",
      "Would you like to know more about Versailles or anything specific regarding France? \n"
     ]
    }
   ],
   "source": [
    "print(output.generations[0][0].text)"
   ]
  },
  {
   "cell_type": "markdown",
   "id": "4b42ee2d-f74b-40aa-8e42-07d417090f92",
   "metadata": {
    "id": "7703b86d",
    "outputId": "74a7c223-0098-460c-c333-37a5925b42f6"
   },
   "source": [
    "#### understand the difference between invoke() and generate() - check here"
   ]
  },
  {
   "cell_type": "markdown",
   "id": "39444a1c-7fd3-4d7b-bbe4-2f8bbdca259e",
   "metadata": {},
   "source": [
    "https://chat.langchain.com/  \n",
    "https://python.langchain.com/docs/get_started/introduction\n",
    "https://api.python.langchain.com/en/latest/langchain_api_reference.html"
   ]
  },
  {
   "cell_type": "markdown",
   "id": "c20ee709",
   "metadata": {
    "id": "c20ee709"
   },
   "source": [
    "## Deep dive into LangChain "
   ]
  },
  {
   "cell_type": "markdown",
   "id": "6d3ad29b",
   "metadata": {
    "id": "6d3ad29b"
   },
   "source": [
    "### Prompt Templates"
   ]
  },
  {
   "cell_type": "code",
   "execution_count": 29,
   "id": "612ed8a8",
   "metadata": {
    "id": "612ed8a8",
    "outputId": "7cf93377-faea-47c8-a86e-d23de5591459"
   },
   "outputs": [
    {
     "name": "stdout",
     "output_type": "stream",
     "text": [
      "input_variables=['concept', 'language'] template='You are an experienced mathematician professor.\\nWrite a few sentences about the following mathematical {concept} in {language}.'\n"
     ]
    }
   ],
   "source": [
    "from langchain import PromptTemplate\n",
    "\n",
    "# Define template with input variables in braces\n",
    "template = '''You are an experienced mathematician professor.\n",
    "Write a few sentences about the following mathematical {concept} in {language}.'''\n",
    "\n",
    "# Create PromptTemplate object with input variables\n",
    "prompt = PromptTemplate(\n",
    "    input_variables=['concept', 'language'], # list of input variable names\n",
    "    template=template # template string\n",
    ")\n",
    "\n",
    "print(prompt)"
   ]
  },
  {
   "cell_type": "code",
   "execution_count": 30,
   "id": "b28accc9",
   "metadata": {
    "id": "b28accc9",
    "outputId": "9a33f6f3-5b1c-4688-b5c9-51f1419ce176"
   },
   "outputs": [
    {
     "name": "stdout",
     "output_type": "stream",
     "text": [
      "\u001b[1mCohere\u001b[0m\n",
      "Params: {'model': None, 'max_tokens': 512, 'temperature': 0.7, 'k': 0, 'p': 1, 'frequency_penalty': 0.0, 'presence_penalty': 0.0, 'truncate': None}\n",
      " La teoría de Pythagoras, conocida como la teoría de los cuadrados, describe una relación fundamental entre las longitudes de los tres lados de una triangulación recta. Según esta teoría, si una de las longitudes es alguna cantidad, la longitud del otro lado es la cantidad necesaria para que la soma de los cuadrados de los dos valores sea igual a cualquier otro cuadrado.\n",
      "\n",
      "La aplicación más conocida de la teoría de Pythagoras es la calculación de la longitud de una diagonal en una rectangula o cuadrícula. Para esta calculación, simplemente usamos las longitudes de las dos lados y la aplicamos a la relación de Pythagoras.\n",
      "\n",
      "La teoría de Pythagoras también se puede usar para solucionar problemas con triangulaciones, rectangulos y cuadrados no simplemente en el plano recto, sino también en el plano profundo. Por ejemplo, la teoría puede ser usada para calcular el volumen de una torta cuadrada o la longitud de un cuadrado que se inserta en una triangulación.\n",
      "\n",
      "La teoría de Pythagoras es uno de los conceptos matemáticos más importantes y versátiles. Cualquiera de los contextos enumerados arriba es una demostración satisfactoria de la flexibilidad y la variedad de uso de la teoría de Pythagoras. \n",
      "\n",
      "Would you like to know more about the applications of the Pythagorean theorem in mathematics and its historical context? \n"
     ]
    }
   ],
   "source": [
    "from langchain.llms import Cohere\n",
    "\n",
    "# Create Cohere LLM instance with parameters\n",
    "llm = Cohere(temperature=0.7, max_tokens=512, cohere_api_key=COHERE_API_KEY)\n",
    "print(llm)\n",
    "\n",
    "# Format prompt template with input values \n",
    "output = llm(prompt.format(concept='Pythagorean theorem', language='Spanish'))\n",
    "print(output)"
   ]
  },
  {
   "cell_type": "markdown",
   "id": "207b22ac-3f0b-4128-8e55-ab5f99359bb9",
   "metadata": {},
   "source": [
    "### Learn about Chains"
   ]
  },
  {
   "cell_type": "markdown",
   "id": "5bfd00f0-afb9-4a64-8788-5d9f0f68306d",
   "metadata": {},
   "source": [
    "Resources :\n",
    "\n",
    "https://python.langchain.com/docs/modules/chains  \n",
    "https://chat.langchain.com/"
   ]
  },
  {
   "cell_type": "markdown",
   "id": "025d9b84",
   "metadata": {
    "id": "025d9b84"
   },
   "source": [
    "#### Simple Chains"
   ]
  },
  {
   "cell_type": "code",
   "execution_count": 33,
   "id": "fd1e5278",
   "metadata": {
    "id": "fd1e5278"
   },
   "outputs": [
    {
     "name": "stdout",
     "output_type": "stream",
     "text": [
      "{'concept': 'Pythagorean theorem', 'language': 'Spanish', 'text': \"La teoría de Pythagoras, conocida como la teoría de los triángulos, describe el especial interacción que tienen tres cantidades en una triángulo: la longitud de una diagonal, la longitud de uno de los lados y la longitud de la otra ladera. La supremacía de este triángulo es una de las razones por las cuales se ha considerado que la teoría de Pythagoras es uno de los mayores descubrimientos de la matemática antigua. El poder de esta teoría se extiende a muchas áreas de las matemáticas modernas, tales como el calculo, geometría trigonómétrica, física, ingeniería, etc. \\n\\nEl triángulo Pythagoras, o triángulo regio, también llamado triángulo de Pitágoras, es uno de los triángulos más conocidos en la geometría. Se le suele registrar por la relación que existe entre las longitudes de sus tres lados. Este triángulo se puede considerar como un escalón en la geometría, pues sirve como base para el entendimiento de muchas otras figuras geométricas.\\n\\nLa teoría de Pythagoras describe cómo la suma de las potencias derecha de las diferencias de longitud de las dos lados con respecto a la diagonal en un triángulo es igual a cero. La diagonal es la línea que une los dos lados de un triángulo y está perpendicular a sus lados. La expresión matemática para la supremacía de este triángulo es: a² + b² = c². Donde 'a' y 'b' son las longitudes de las dos lados y 'c' es la longitud de la diagonal. \\n\\nEl nombre de Pythagoras se debe a su descubrimiento por el griego Pitágoras (Pytagoras). El cual fue uno de los matemáticos más influyentes de la antigua Grecia.\"}\n"
     ]
    }
   ],
   "source": [
    "from langchain.chat_models import ChatCohere\n",
    "from langchain import PromptTemplate\n",
    "from langchain.chains import LLMChain\n",
    "\n",
    "# Create ChatCohere LLM instance\n",
    "llm = ChatCohere(temperature=0.5, cohere_api_key=COHERE_API_KEY)\n",
    "\n",
    "# Define template string \n",
    "template = '''You are an experienced mathematician professor.\n",
    "Write a few sentences about the following mathematical {concept} in {language}.'''\n",
    "\n",
    "# Create PromptTemplate \n",
    "prompt = PromptTemplate(\n",
    "    input_variables=['concept', 'language'],\n",
    "    template=template\n",
    ")\n",
    "\n",
    "# Create LLMChain with llm and prompt\n",
    "chain = LLMChain(llm=llm, prompt=prompt)\n",
    "\n",
    "# Run chain with input values\n",
    "output = chain.invoke({'concept': 'Pythagorean theorem', 'language': 'Spanish'})\n",
    "print(output)"
   ]
  },
  {
   "cell_type": "markdown",
   "id": "f283cc13",
   "metadata": {
    "id": "f283cc13"
   },
   "source": [
    "### Sequential Chains"
   ]
  },
  {
   "cell_type": "code",
   "execution_count": 36,
   "id": "9d68115d",
   "metadata": {
    "id": "9d68115d",
    "outputId": "2aa75fcc-88bb-4972-c9dc-0eec0f0b7d07",
    "scrolled": true
   },
   "outputs": [
    {
     "name": "stdout",
     "output_type": "stream",
     "text": [
      "\n",
      "\n",
      "\u001b[1m> Entering new SimpleSequentialChain chain...\u001b[0m\n",
      "\u001b[36;1m\u001b[1;3m The function that implements the concept of softmax in Python is:\n",
      "```python\n",
      "import math\n",
      "\n",
      "def softmax(x):\n",
      "    \"\"\"\n",
      "    Compute the softmax function for a given vector.\n",
      "\n",
      "    Parameters:\n",
      "    x (list or numpy array): Vector of arbitrary size on which to apply softmax.\n",
      "\n",
      "    Returns:\n",
      "    list or numpy array: Vector of the same size as x, with applied softmax.\n",
      "    \"\"\"\n",
      "    x = x - math.max(x)\n",
      "    exponent = math.exp(x)\n",
      "    result = exponent / math.sum(exponent)\n",
      "    return result\n",
      "```\n",
      "\n",
      "This function takes a vector `x` as input and computes the softmax function element-wise. It achieves this by subtracting the maximum value in the vector to center it around zero, calculating the exponential of the centered vector, and then dividing each element by the sum of exponents to ensure that the sum of probabilities across all classes remains 1.\n",
      "\n",
      "You can test this function with various input vectors to obtain the softmax output:\n",
      "```python\n",
      "# Example usage\n",
      "x = [2, 3, 4, 5]  # Example input vector\n",
      "result = softmax(x)\n",
      "print(result)\n",
      "```\n",
      "\n",
      "This would output:\n",
      "```bash\n",
      "[0.09003057 0.24472848 0.30053605 0.16483602]\n",
      "```\n",
      "\n",
      "Which indicates the probabilities assigned to each class (in this case, four equally probable classes).\n",
      "\n",
      "Remember to ensure that your version uses `math.exp` and `math.sum` from the `math` module to obtain the desired softmax behavior. \n",
      "\n",
      "If you're working with multi-dimensional arrays, you might need to modify the function to apply softmax along a specific axis, but the basic concept remains the same. \n",
      "\n",
      "If you have more questions or need further assistance, please feel free to ask! \u001b[0m\n",
      "\u001b[33;1m\u001b[1;3mThe provided Python function is a correct implementation of the softmax function for a given vector. \n",
      "\n",
      "Here's a detailed description of the code:\n",
      "- The function starts by importing the `math` module, which provides various mathematical functions and is commonly used for numerical computations in Python.\n",
      "- The `softmax(x)` function takes a vector `x` as input, which is expected to be a list or a numpy array.\n",
      "- The line `x = x - math.max(x)` subtracts the maximum value in the vector `x` from each element of the vector. This step is crucial to ensure that the softmax function is applied to values centered around zero, making it easier to achieve values close to zero and one.\n",
      "- The line `exponent = math.exp(x)` calculates the exponential of each element in the centered vector `x`. Exponentiation is a crucial step in applying the softmax function, as it ensures that the output values are non-negative and sum up to one.\n",
      "- The line `result = exponent / math.sum(exponent)` divides each element of the vector by the sum of all the exponents. This step ensures that the probability sum across all classes is equal to one, which is a fundamental property of the softmax function.\n",
      "- Finally, the function returns the result, which is the vector with applied softmax.\n",
      "\n",
      "You can test this function with various input vectors to observe the softmax output. For example, if you input the vector `[2, 3, 4, 5]`, the output will be `[0.09003057, 0.24472848, 0.30053605, 0.16483602]`. \n",
      "\n",
      "Each value in the output represents the probability assigned to the corresponding class, and the sum of these probabilities across all classes is approximately 1. \n",
      "\n",
      "If you have any more questions or need further assistance, please feel free to ask!\u001b[0m\n",
      "\n",
      "\u001b[1m> Finished chain.\u001b[0m\n"
     ]
    }
   ],
   "source": [
    "from langchain.chat_models import ChatCohere\n",
    "from langchain.llms import Cohere\n",
    "from langchain import PromptTemplate\n",
    "from langchain.chains import LLMChain, SimpleSequentialChain\n",
    "\n",
    "# Create Cohere LLM instance with parameters\n",
    "llm1 = Cohere(temperature=0.2, max_tokens=512, cohere_api_key=COHERE_API_KEY)\n",
    "\n",
    "# Create first prompt template\n",
    "prompt1 = PromptTemplate(\n",
    "    input_variables=['concept'],\n",
    "    template='''You are an experienced scientist and Python programmer.\n",
    "    Write a function that implements the concept of {concept}.'''\n",
    ")\n",
    "\n",
    "# Create first LLMChain with llm1 and prompt1\n",
    "chain1 = LLMChain(llm=llm1, prompt=prompt1)\n",
    "\n",
    "\n",
    "# Create ChatCohere LLM instance\n",
    "llm2 = ChatCohere(temperature=0.9, cohere_api_key=COHERE_API_KEY)\n",
    "\n",
    "# Create second prompt template\n",
    "prompt2 = PromptTemplate(\n",
    "    input_variables=['function'],\n",
    "    template='Given the Python function {function}, describe it as detailed as possible.'\n",
    ")\n",
    "\n",
    "# Create second LLMChain with llm2 and prompt2\n",
    "chain2 = LLMChain(llm=llm2, prompt=prompt2)\n",
    "\n",
    "# Create SequentialChain using the two chains \n",
    "# You can check what verbose means with :\n",
    "# https://api.python.langchain.com/en/latest/chains/langchain.chains.sequential.SimpleSequentialChain.html?highlight=simplesequentialchain%20verbose\n",
    "overall_chain = SimpleSequentialChain(chains=[chain1, chain2], verbose=True)\n",
    "\n",
    "# Run the chain with the input 'softmax'\n",
    "output = overall_chain.run('softmax')\n",
    "\n"
   ]
  },
  {
   "cell_type": "markdown",
   "id": "ed3a9c39",
   "metadata": {
    "id": "ed3a9c39"
   },
   "source": [
    "### LangChain Agents"
   ]
  },
  {
   "cell_type": "code",
   "execution_count": 40,
   "id": "115e2fe3",
   "metadata": {
    "id": "115e2fe3",
    "outputId": "e7b894b6-3eee-41b4-faf3-171d2aed2f42"
   },
   "outputs": [
    {
     "name": "stdout",
     "output_type": "stream",
     "text": [
      "\n",
      "\n",
      "\u001b[1m> Entering new AgentExecutor chain...\u001b[0m\n"
     ]
    },
    {
     "name": "stderr",
     "output_type": "stream",
     "text": [
      "Python REPL can execute arbitrary code. Use with caution.\n"
     ]
    },
    {
     "name": "stdout",
     "output_type": "stream",
     "text": [
      "\u001b[32;1m\u001b[1;3m To obtain the answer, we can simply substitute the given value of x into the expression and then compute the result:\n",
      "Action: Python_REPL\n",
      "Action Input: ```python\n",
      "x = 2157625176\n",
      "result = x**3 + 3*x**2 - 5\n",
      "print(result)\n",
      "```\u001b[0m\n",
      "Observation: \u001b[36;1m\u001b[1;3m10044492609842253579108544699\n",
      "\u001b[0m\n",
      "Thought:"
     ]
    },
    {
     "name": "stderr",
     "output_type": "stream",
     "text": [
      "huggingface/tokenizers: The current process just got forked, after parallelism has already been used. Disabling parallelism to avoid deadlocks...\n",
      "To disable this warning, you can either:\n",
      "\t- Avoid using `tokenizers` before the fork if possible\n",
      "\t- Explicitly set the environment variable TOKENIZERS_PARALLELISM=(true | false)\n"
     ]
    },
    {
     "name": "stdout",
     "output_type": "stream",
     "text": [
      "\u001b[32;1m\u001b[1;3m The result is 10044492609842253579108544699. Thought: The expression x**3 + 3*x**2 - 5, with x = 2157625176, evaluates to 10044492609842253579108544699. \n",
      "\n",
      "Final Answer: 10044492609842253579108544699.\u001b[0m\n",
      "\n",
      "\u001b[1m> Finished chain.\u001b[0m\n"
     ]
    },
    {
     "data": {
      "text/plain": [
       "'10044492609842253579108544699.'"
      ]
     },
     "execution_count": 40,
     "metadata": {},
     "output_type": "execute_result"
    }
   ],
   "source": [
    "from langchain_experimental.agents.agent_toolkits import create_python_agent\n",
    "from langchain_experimental.tools.python.tool import PythonREPLTool\n",
    "from langchain.llms import Cohere\n",
    "\n",
    "# Create Cohere LLM instance\n",
    "llm = Cohere(temperature=0, cohere_api_key=COHERE_API_KEY)\n",
    "\n",
    "# Create agent by passing LLM, tool (what is it !?)\n",
    "# You can check what verbose means with :\n",
    "# https://api.python.langchain.com/en/latest/chains/langchain.chains.sequential.SimpleSequentialChain.html?highlight=simplesequentialchain%20verbose\n",
    "agent_executor = create_python_agent(\n",
    "    llm=llm,\n",
    "    tool=PythonREPLTool(),\n",
    "    verbose=True\n",
    ")\n",
    "\n",
    "# Run agent with input command \n",
    "agent_executor.run('what is the answer to x**3 + 3*x**2 - 5 with x = 2157625176 ?')\n",
    "\n"
   ]
  }
 ],
 "metadata": {
  "colab": {
   "provenance": []
  },
  "kernelspec": {
   "display_name": "Python 3 (ipykernel)",
   "language": "python",
   "name": "python3"
  },
  "language_info": {
   "codemirror_mode": {
    "name": "ipython",
    "version": 3
   },
   "file_extension": ".py",
   "mimetype": "text/x-python",
   "name": "python",
   "nbconvert_exporter": "python",
   "pygments_lexer": "ipython3",
   "version": "3.11.6"
  }
 },
 "nbformat": 4,
 "nbformat_minor": 5
}
