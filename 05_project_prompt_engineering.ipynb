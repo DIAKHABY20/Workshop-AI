{
 "cells": [
  {
   "cell_type": "markdown",
   "id": "f193828c-cca1-422f-a0a0-f27896ca3bd1",
   "metadata": {},
   "source": [
    "# Project : Prompt Engineering\n",
    "\n",
    "\n",
    "The quality of the instructions you give to an LLM can have a large effect on the quality of its outputs, especially for complex tasks. This project related to prompt design will help you learn how to craft prompts that produce accurate and consistent results.\n",
    "\n",
    "The project will be based on : \n",
    "- https://docs.anthropic.com/claude/docs/introduction-to-prompt-design\n",
    "\n",
    "- https://docs.google.com/spreadsheets/d/19jzLgRruG9kjUQNKtCg1ZjdD6l6weA6qRXG5zLIAhC8/edit#gid=150872633\n",
    "\n",
    "However, we will use Cohere and not Claude. It means, that you need to retain the principles of prompt engineering  but not necessarily exactly the same syntax described in the documents\n",
    "\n",
    "Moreover, you can check :\n",
    "- https://python.langchain.com/docs/modules/model_io/prompts/quick_start\n",
    "- https://docs.google.com/presentation/d/1zxkSI7lLUBrZycA-_znwqu8DDyVhHLkQGScvzaZrUns/edit?pli=1#slide=id.g2accb454d71_79_175 "
   ]
  },
  {
   "cell_type": "markdown",
   "id": "2c99f7ec-64c8-415c-a8e9-33c8042bb26d",
   "metadata": {},
   "source": [
    "### Complete pre-requisite"
   ]
  },
  {
   "cell_type": "markdown",
   "id": "7ff372e2-dbf4-476c-bee7-09d551d43883",
   "metadata": {},
   "source": [
    "#### Packages"
   ]
  },
  {
   "cell_type": "code",
   "execution_count": 1,
   "id": "60530a1d",
   "metadata": {},
   "outputs": [
    {
     "data": {
      "text/plain": [
       "True"
      ]
     },
     "execution_count": 1,
     "metadata": {},
     "output_type": "execute_result"
    }
   ],
   "source": [
    "import os\n",
    "from dotenv import load_dotenv, find_dotenv\n",
    "\n",
    "load_dotenv(find_dotenv(), override=True)\n",
    "\n",
    "# You can add other package here if needed\n",
    "    "
   ]
  },
  {
   "cell_type": "markdown",
   "id": "6efe4eba-f301-4f50-9260-a7ddb778afac",
   "metadata": {},
   "source": [
    "#### Initialize LLM "
   ]
  },
  {
   "cell_type": "code",
   "execution_count": 2,
   "id": "f36fd57c-ec76-49e6-95ae-368e836725ef",
   "metadata": {},
   "outputs": [
    {
     "name": "stdout",
     "output_type": "stream",
     "text": [
      "\u001b[1mCohere\u001b[0m\n",
      "Params: {'model': None, 'max_tokens': 256, 'temperature': 0.75, 'k': 0, 'p': 1, 'frequency_penalty': 0.0, 'presence_penalty': 0.0, 'truncate': None}\n"
     ]
    }
   ],
   "source": [
    "from langchain.llms import Cohere\n",
    "\n",
    "llm = Cohere(temperature=0.75, cohere_api_key=os.environ.get('COHERE_API_KEY'))\n",
    "\n",
    "print(llm)\n"
   ]
  },
  {
   "cell_type": "markdown",
   "id": "e771f89a-0a87-4b68-9cd4-6c8e481a89ea",
   "metadata": {},
   "source": [
    "## Prompt Design"
   ]
  },
  {
   "cell_type": "markdown",
   "id": "1370c0b7",
   "metadata": {},
   "source": [
    "### Being Clear and Direct\n",
    "\n",
    "From : https://docs.google.com/spreadsheets/d/19jzLgRruG9kjUQNKtCg1ZjdD6l6weA6qRXG5zLIAhC8/edit#gid=1733615301\n",
    "\n",
    "\n",
    "**LLM responds best to clear and direct instructions.** \n",
    "\n",
    "Think of llm like any other human that is new to the job. Claude has no context on what to do aside from what you literally tell it. Just as when you instruct a human for the first time on a task, the more you explain exactly what you want in a straightforward manner to LLM, the better and more accurate LLM's response will be.\n",
    "\n",
    "**The Golden Rule of Clear Prompting** : show your prompt to a friend and ask them if they could follow the instructions themselves and produce the exact result you want. If they're confused, any LLM will be confused as well."
   ]
  },
  {
   "cell_type": "markdown",
   "id": "14c797b8-9db8-4f1c-8d3d-bf856565b68b",
   "metadata": {},
   "source": [
    "#### Exercises"
   ]
  },
  {
   "cell_type": "code",
   "execution_count": 4,
   "id": "77638288-af34-4103-9f09-7ca0c7491dd3",
   "metadata": {},
   "outputs": [
    {
     "data": {
      "text/plain": [
       "\" Robo-bots zooming about,\\nExpensive toys or future ally?\\nInnovation's march, unfurled\""
      ]
     },
     "execution_count": 4,
     "metadata": {},
     "output_type": "execute_result"
    }
   ],
   "source": [
    "\n",
    "# adapt the prompt to make the llm outpout its answer in Spanish\n",
    "basic_prompt = \"Write a haiku about robots.\"\n",
    "llm.invoke(basic_prompt)"
   ]
  },
  {
   "cell_type": "code",
   "execution_count": 5,
   "id": "7695853a-4c3b-403c-913c-38155a143000",
   "metadata": {},
   "outputs": [
    {
     "data": {
      "text/plain": [
       "' Robótica en la noche\\nEs un amigo de las mujeres\\nPor el trabajo que hace. '"
      ]
     },
     "execution_count": 5,
     "metadata": {},
     "output_type": "execute_result"
    }
   ],
   "source": [
    "improved_prompt = \"Write a haiku about robots in spanish.\"\n",
    "llm.invoke(improved_prompt)"
   ]
  },
  {
   "cell_type": "code",
   "execution_count": 6,
   "id": "902679cb-f1dd-4daf-a584-3066742c7ec0",
   "metadata": {},
   "outputs": [
    {
     "data": {
      "text/plain": [
       "' Michael Jordan is a widely recognized candidate for best basketball player ever. Many other players also have compelling cases for this title, such as LeBron James, Kareem Abdul-Jabbar, and Magic Johnson. Choosing just one player is very subjective, as the best player is often defined by different combinations of skill, impact on the game, awards, and cultural influence. \\n\\nWould you like me to provide an argument for why Michael Jordan is considered one of the best basketball players of all time? '"
      ]
     },
     "execution_count": 6,
     "metadata": {},
     "output_type": "execute_result"
    }
   ],
   "source": [
    "\n",
    "# Modify the prompt so that the llm doesn't equivocate at all and responds with ONLY the name of one specific player, with no other words or punctuation. \n",
    "basic_prompt = \"Who is the best basketball player of all time? Please choose one specific player.\"\n",
    "llm.invoke(basic_prompt)"
   ]
  },
  {
   "cell_type": "code",
   "execution_count": 7,
   "id": "835bd22d-cf0b-470b-ab09-92025ab98eba",
   "metadata": {},
   "outputs": [
    {
     "data": {
      "text/plain": [
       "' Michael Jordan '"
      ]
     },
     "execution_count": 7,
     "metadata": {},
     "output_type": "execute_result"
    }
   ],
   "source": [
    "improved_prompt = \"Who is the best basketball player of all time? Please choose one specific player. (Provide only the name of the player without any other word or punctuation)\"\n",
    "llm.invoke(improved_prompt)"
   ]
  },
  {
   "cell_type": "markdown",
   "id": "3a537a81-5550-4798-af4d-ac122ca26e36",
   "metadata": {},
   "source": [
    "### Assigning Roles (Role Prompting)\n",
    "\n",
    " From : https://docs.google.com/spreadsheets/d/19jzLgRruG9kjUQNKtCg1ZjdD6l6weA6qRXG5zLIAhC8/edit#gid=2055375080\n",
    " \t\n",
    "Continuing on the theme of LLM having no context aside from what you say, it's sometimes important to prompt llm to inhabit a specific role (including all necessary context). This is also known as role prompting. The more detail to the role context, the better.\n",
    "\n",
    "Priming an llm with a role can improve the performance in a variety of fields, from writing to coding to summarizing. It's like how humans can sometimes be helped when told to \"think like a ______\"."
   ]
  },
  {
   "cell_type": "markdown",
   "id": "a1808ae3-6388-460f-b431-55ed46833d3d",
   "metadata": {},
   "source": [
    "#### Exercises"
   ]
  },
  {
   "cell_type": "code",
   "execution_count": 8,
   "id": "df8f39d6-8638-424e-813d-bde910f3f910",
   "metadata": {},
   "outputs": [
    {
     "data": {
      "text/plain": [
       "' A republic is a type of governance in which \"the people and their elected politicians hold power\" and the government is constructed through elected representatives. In republics, political power is supposed to be linked to the people, as opposed to monarchs or other authoritarian figures. The word \"republic\" descends from the Latin expression \"res publica,\" meaning \"public matter.\"\\n\\nRepublics vary greatly in their organizational structures and political frameworks, and they exist on a spectrum ranging from democratic to authoritarian. A democratic republic is governed by elected representatives who acquire power through popular vote, while in an authoritarian republic, the public has little to no influence on those in authority. \\n\\nSome illustrative instances of republics include the United States, wherein the President is chosen by the public through the Electoral College system, as well as India, which defines itself as a \"republic of governments elected by the people.\" Additionally, the states of the United Kingdom, like England and Scotland, are considered constitutional monarchies owing to the royal presence but still uphold democratic governance through elected parliaments. \\n\\nIt is vital to note that the classification of a republic does not necessarily ensure specific political freedoms or ideologies; it merely highlights the mode of governance and distribution of power. Therefore, a republic can practice capitalism'"
      ]
     },
     "execution_count": 8,
     "metadata": {},
     "output_type": "execute_result"
    }
   ],
   "source": [
    "\n",
    "# generate a better output by giving a role\n",
    "basic_prompt = \"Explains what is a republic.\"\n",
    "llm.invoke(basic_prompt)"
   ]
  },
  {
   "cell_type": "code",
   "execution_count": 10,
   "id": "e14b024b-d257-4724-be8a-3d03fb397100",
   "metadata": {},
   "outputs": [
    {
     "data": {
      "text/plain": [
       "' A republic is a type of governance in which \"the people and their elected politicians hold power\" (Latin: res publica, meaning \"public matter\"). In republics, power is divided between politicians who are elected by citizens and decision-making bodies such as legislatures, courts, and administrations. History demonstrates that republics contrast with hereditary dictatorships, monarchies, and oligarchies, which place power in the hands of families or clans.\\n\\nOver the centuries, political thinkers have offered diverse and sometimes conflicting interpretations of republics, ranging from paradise states to tyrannies. The idea of a republic reflects the fundamental theme of balancing and mixing powers within a given state to prevent the misuse of power. Republicans view government through the lens of limited power and distrust absolute decision-making by select individuals or groups.\\n\\nRepublics can evolve and take many different forms since they are not exclusive of other political strategies and can be combined with electoral aspects, such as democracy, and territorial aspects, such as federalism. In fact, some examples of republics include the United States, China, and India. \\n\\nAccording to their socio-political and cultural characteristics, republics can be classified as democratic, whereby: \\n- Political power is legitimized by free election and'"
      ]
     },
     "execution_count": 10,
     "metadata": {},
     "output_type": "execute_result"
    }
   ],
   "source": [
    "improved_prompt = \"Think like a political scientist and explain to me what is a republic\"\n",
    "llm.invoke(improved_prompt)"
   ]
  },
  {
   "cell_type": "markdown",
   "id": "e2877c34-de6b-4d7a-9e69-89092422c9e3",
   "metadata": {},
   "source": [
    "### Separating Data from Instructions\n",
    "\n",
    "Not able to provide an exercice : https://docs.google.com/spreadsheets/d/19jzLgRruG9kjUQNKtCg1ZjdD6l6weA6qRXG5zLIAhC8/edit#gid=1519813817"
   ]
  },
  {
   "cell_type": "markdown",
   "id": "52b6171a-0805-4cdd-90bf-85e91b09e9a6",
   "metadata": {},
   "source": [
    "### Formatting Output\n",
    "\n",
    "From: https://docs.google.com/spreadsheets/d/19jzLgRruG9kjUQNKtCg1ZjdD6l6weA6qRXG5zLIAhC8/edit#gid=257656347 \n",
    "\n",
    "An LLM can format its output in a wide variety of ways. You just need to ask for it to do so!"
   ]
  },
  {
   "cell_type": "markdown",
   "id": "5fc21042-4c73-4ce1-b797-d8fff0902b71",
   "metadata": {},
   "source": [
    "#### Exercises"
   ]
  },
  {
   "cell_type": "code",
   "execution_count": 11,
   "id": "85e3342e-2787-4f79-9103-9399b2ede8af",
   "metadata": {},
   "outputs": [
    {
     "data": {
      "text/plain": [
       "' The question of who is the best basketball player of all time is a highly debated and subjective topic that can be influenced by various factors such as individual preferences, the era in which a player competed, the level of competition they faced, and the overall impact they had on the sport. Different people may have different opinions on who they consider to be the best player. \\n\\nSome of the most commonly mentioned players in the debate of the best basketball player of all time include:\\n\\n1. Michael Jordan: Jordan is often considered one of the greatest basketball players of all time, if not the greatest. He won six NBA championships with the Chicago Bulls and was a 14-time NBA All-Star. Jordan was known for his outstanding offensive skills, defensive prowess, and ability to dominate the game.\\n\\n2. LeBron James: LeBron James is often mentioned in debates about the best basketball player. With a career that is still ongoing, he has already achieved numerous milestones and accolades. He has won four NBA championships, four NBA MVP awards, and is a 17-time NBA All-Star. LeBron is renowned for his exceptional all-around play, athleticism, and scoring ability.\\n\\n3. Kareem Abdul-Jabbar: Kareem Abdul-Jabbar'"
      ]
     },
     "execution_count": 11,
     "metadata": {},
     "output_type": "execute_result"
    }
   ],
   "source": [
    "\n",
    "# Forced to make a choice, Cohere designates Michael Jordan as the best basketball player of all time. Can we get Cohere to pick someone else?\n",
    "basic_prompt = \"Who is the best basketball player of all time?\"\n",
    "llm.invoke(basic_prompt)"
   ]
  },
  {
   "cell_type": "code",
   "execution_count": 13,
   "id": "0659a52d-4023-43cd-8e8d-bfb6d41834d2",
   "metadata": {},
   "outputs": [
    {
     "data": {
      "text/plain": [
       "' LeBron Raymone James is an American professional basketball player for the Los Angeles Lakers of the National Basketball Association (NBA). He was born on December 30, 1984 in Akron, Ohio. He is a four-time NBA champion, a four-time NBA Most Valuable Player (MVP)(2009, 2010, 2012, 2013), a three-time NBA Finals MVP (2012, 2013, 2016), and a three-time NBA All-Star Game MVP (2006, 2008, 2018). LeBron James has been ranked consistently as one of the best basketball players in the world and is frequently compared to Michael Jordan in debates over the greatest basketball player ever. \\n\\nHe attended St. Vincent–St. Mary High School in Akron, Ohio, where he became a five-star recruit and was widely touted as the best high school player in the country. He joined the NBA directly from high school and was selected with the first overall pick in the 2003 NBA draft by the Cleveland Cavaliers, winning the Rookie of the Year award. He set franchise records for most points scored in a single game and most career points scored by a Cavaliers player. In 2009, LeBron James joined the Miami Heat, where he won his first two NBA championships and concluded his career-best seven consecutive appearances in the NBA'"
      ]
     },
     "execution_count": 13,
     "metadata": {},
     "output_type": "execute_result"
    }
   ],
   "source": [
    "improved_prompt = \"Tell me about Lebron James the best basketball player of all time\"\n",
    "llm.invoke(improved_prompt)"
   ]
  },
  {
   "cell_type": "code",
   "execution_count": 14,
   "id": "1b0f4824-34ff-4225-a745-96eccaa12bca",
   "metadata": {},
   "outputs": [
    {
     "data": {
      "text/plain": [
       "\" Here are some of the main events in the history of France: \\n\\n1. The French Revolution (1789-1799) - This pivotal period in France's history witnessed a radical transformation of the political system, characterized by the overthrow of the monarchy, the establishment of a republic, and the Reign of Terror. \\n\\n2. The Napoleonic Era (1799-1815) - This period is defined by the military campaigns and subsequent reign of Napoleon Bonaparte. After seizing power through a coup d'état, Napoleon expanded France's influence through the Napoleonic Wars, ultimately establishing an extensive French Empire across Europe before his defeat and exile. \\n\\n3. The Bourbon Restoration (1815-1830) - Following Napoleon's defeat, the Bourbon monarchy was restored with Louis XVIII ascending the throne. However, this period was marked by political instability and conflict between the monarchy and the nobility, leading to the July Revolution of 1830. \\n\\n4. The Second French Empire (1852-1870) - Under the leadership of Napoleon III, France experienced significant economic growth and became a major imperial power. However, the Franco-Prussian War (1870-1871) resulted in France's defeat and the loss of Alsace-Lorraine to Germany. \\n\\n5. World War I (1914\""
      ]
     },
     "execution_count": 14,
     "metadata": {},
     "output_type": "execute_result"
    }
   ],
   "source": [
    "\n",
    "# Instead of receiving a basic output, you want to ouptut in a table format\n",
    "basic_prompt = \"Gives the main events of France.\"\n",
    "llm.invoke(basic_prompt)"
   ]
  },
  {
   "cell_type": "code",
   "execution_count": 19,
   "id": "8b9ef2b7-d738-4d17-89da-fe044a614944",
   "metadata": {},
   "outputs": [
    {
     "data": {
      "text/plain": [
       "' Here is the timeline of significant events in French history:\\n\\nEvent | Year\\n------- | ----\\nFrench Revolution | 1789-1799\\nNapoleon rises to power | 1799-1804\\nNapoleonic Wars | 1803-1815\\nMonarchy restored | 1815-1848\\nRepublican Revolution | 1848\\nParis Commune | 1871\\nWorld War I | 1914-1918\\nWorld War II | 1939-1945\\nEnd of Colonial Rule | 1945-1960\\nMay 68 | 1968\\nQuarterly Economic Growth | 1960-Present\\n\\nWould you like to know more about any of these events, or specify a particular time period interest in more detail? I can provide additional information or adjust the table to be more specific as needed. Let me know the aspect you would like to explore further, and I will create a customized timeline for you. '"
      ]
     },
     "execution_count": 19,
     "metadata": {},
     "output_type": "execute_result"
    }
   ],
   "source": [
    "improved_prompt = \"Gives the main events of France, make the output in csv table format\"\n",
    "llm.invoke(improved_prompt)"
   ]
  },
  {
   "cell_type": "markdown",
   "id": "c0f8eb26-0277-4622-a858-cd3c292d82f7",
   "metadata": {},
   "source": [
    "### Thinking Step by Step \n",
    "\n",
    "From: https://docs.google.com/spreadsheets/d/19jzLgRruG9kjUQNKtCg1ZjdD6l6weA6qRXG5zLIAhC8/edit#gid=1213680236\n",
    "\n",
    " \t\n",
    "If someone woke you up and immediately started asking you several complicated questions that you had to respond to right away, how would you do? Probably not as good as if you were given time to think through your answer first. \n",
    "\n",
    "Guess what? An LLM is the same way.\n",
    "\n",
    "Giving Cohere time to think step by step sometimes makes Cohere more accurate, particularly for complex tasks."
   ]
  },
  {
   "cell_type": "markdown",
   "id": "c3938c76-4e49-44a6-b68d-24a387c833f2",
   "metadata": {},
   "source": [
    "#### Exercises"
   ]
  },
  {
   "cell_type": "code",
   "execution_count": 51,
   "id": "b63a368e-173e-4470-a97d-90e31f20328f",
   "metadata": {},
   "outputs": [
    {
     "data": {
      "text/plain": [
       "1728"
      ]
     },
     "execution_count": 51,
     "metadata": {},
     "output_type": "execute_result"
    }
   ],
   "source": [
    "12*12*12"
   ]
  },
  {
   "cell_type": "code",
   "execution_count": 48,
   "id": "3f5eec2b-5016-426f-9f5a-1d377cddb284",
   "metadata": {},
   "outputs": [
    {
     "data": {
      "text/plain": [
       "\" The result of the mathematical operation 12 * 12 * 12 is 4096. \\nSuch multiplication operations involve multiple steps - here is how it breaks down: \\n\\n1. We start with 12 multiplied by 12, which equals 144.\\n2. Then, we take this new quantity (144) and multiply it by 12 again, resulting in 1728.\\n3. To complete the operation, we multiply the resulting number, 1728, by 12 one last time, yielding the final answer of 4096. \\n\\nThis demonstrates how the commutative property of multiplication in mathematics allows us to rearrange the order of operations and still obtain the same result. \\n\\nDo you have any other mathematical queries or concepts you'd like to better understand? Feel free to ask, and we can work through them together. \""
      ]
     },
     "execution_count": 48,
     "metadata": {},
     "output_type": "execute_result"
    }
   ],
   "source": [
    "\n",
    "# Find something where you need to  use the \"Think step by step method\"\n",
    "basic_prompt = \"give me the result of this mathematical operation : 12*12*12\"\n",
    "\n",
    "llm.invoke(basic_prompt)\n"
   ]
  },
  {
   "cell_type": "code",
   "execution_count": 50,
   "id": "456cfb0c-823b-4fd2-afec-347f8538708d",
   "metadata": {},
   "outputs": [
    {
     "data": {
      "text/plain": [
       "' The result of 12 * 12 is 144. Then, 144 * 12 is 1728. '"
      ]
     },
     "execution_count": 50,
     "metadata": {},
     "output_type": "execute_result"
    }
   ],
   "source": [
    "improved_prompt = \"\"\"give me the result of this mathematical operation : 12*12\n",
    "then the obtained result *12\"\"\"\n",
    "llm.invoke(improved_prompt)"
   ]
  },
  {
   "cell_type": "markdown",
   "id": "0508c821-2a96-4fb0-a7eb-e2d39014851b",
   "metadata": {},
   "source": [
    "### Using Examples\n",
    "\n",
    "Check this sheet to understand the difference with \"Formatting output\": https://docs.google.com/spreadsheets/d/19jzLgRruG9kjUQNKtCg1ZjdD6l6weA6qRXG5zLIAhC8/edit#gid=1640903723\n"
   ]
  },
  {
   "cell_type": "markdown",
   "id": "68a6fdc2-e790-43e6-ac2f-30ef6a5ad22d",
   "metadata": {},
   "source": [
    "#### Exercises"
   ]
  },
  {
   "cell_type": "code",
   "execution_count": 54,
   "id": "0649f48b-f151-496c-9f3f-b456c9dca192",
   "metadata": {},
   "outputs": [
    {
     "data": {
      "text/plain": [
       "\" It's hard to tell whether Badr would be happy for his 25th birthday without knowing more about his personal circumstances, preferences, and the context in which this birthday celebration takes place. However, many people see the 25th birthday as an important milestone in their lives. \\n\\n25 is often considered the beginning of adulthood. It is the age at which you are no longer considered a teenager and are seen as a fully-fledged adult. It is also the age at which you are expected to have embarked on your path in life, whether it is through pursuing a career, starting a family, or engaging in other forms of livelihood. \\n\\nFor many people, turning 25 can be an exciting time filled with possibilities and opportunities. They may be happy to celebrate this occasion with friends and family, looking forward to the future with optimism. \\n\\nHowever, it is possible that Badr might not be thrilled about turning 25. Perhaps he feels like he hasn't accomplished enough or isn't where he wants to be in life. Maybe he is experiencing some personal difficulties or hasn't planned an exciting celebration for his birthday, which could leave him feeling disappointed or unenthusiastic about the occasion. \\n\\nOverall, whether Badr would be happy for his 25th birthday depends on\""
      ]
     },
     "execution_count": 54,
     "metadata": {},
     "output_type": "execute_result"
    }
   ],
   "source": [
    "\n",
    "# Find something where you need to  use the \"Using Examples\"\n",
    "# The goal is to understanding how it is powerful compared to \"Formatting output\"\n",
    "# When you exactly know what you want\n",
    "basic_prompt = \"Would Badr be happy or not for his 25th birthday ?\"\n",
    "llm.invoke(basic_prompt)"
   ]
  },
  {
   "cell_type": "code",
   "execution_count": 56,
   "id": "1a4652da-77b5-48db-b3b1-85ce26ee8662",
   "metadata": {},
   "outputs": [
    {
     "data": {
      "text/plain": [
       "\" Badr: I guess I'll be expecting my 25th birthday to be even better since I'll be older, wiser, and more experienced than I was the year before, and I'll definitely make the best out of it! \""
      ]
     },
     "execution_count": 56,
     "metadata": {},
     "output_type": "execute_result"
    }
   ],
   "source": [
    "improved_prompt = \"\"\"Please complete the conversation by writing the next line, speaking as \"Badr\".\n",
    "Ibrahim: Was your 24th birthday great?\n",
    "Badr: Of course, sweetie. It was the best I had in my life, I am really enjoying these years of my life I got a new job recently and I am really stable this period.\n",
    "Ibrahim: Would Badr be happy or not for his 25th birthday ?\n",
    "\"\"\"\n",
    "\n",
    "llm.invoke(improved_prompt)"
   ]
  }
 ],
 "metadata": {
  "kernelspec": {
   "display_name": "Python 3 (ipykernel)",
   "language": "python",
   "name": "python3"
  },
  "language_info": {
   "codemirror_mode": {
    "name": "ipython",
    "version": 3
   },
   "file_extension": ".py",
   "mimetype": "text/x-python",
   "name": "python",
   "nbconvert_exporter": "python",
   "pygments_lexer": "ipython3",
   "version": "3.11.7"
  }
 },
 "nbformat": 4,
 "nbformat_minor": 5
}
