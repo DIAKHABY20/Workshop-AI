{
 "cells": [
  {
   "cell_type": "markdown",
   "id": "288ce9a8",
   "metadata": {
    "id": "288ce9a8"
   },
   "source": [
    "# LangChain Basics"
   ]
  },
  {
   "cell_type": "markdown",
   "id": "f2905610-9ad8-43fd-bb28-31a404ea28fe",
   "metadata": {},
   "source": [
    "## Install dependencies"
   ]
  },
  {
   "cell_type": "code",
   "execution_count": 1,
   "id": "002d92f1",
   "metadata": {
    "executionInfo": {
     "elapsed": 6656,
     "status": "ok",
     "timestamp": 1695281250556,
     "user": {
      "displayName": "Andrei Dumitrescu",
      "userId": "04285534149796751164"
     },
     "user_tz": -180
    },
    "id": "002d92f1",
    "scrolled": true
   },
   "outputs": [
    {
     "name": "stdout",
     "output_type": "stream",
     "text": [
      "Requirement already satisfied: langchain in c:\\users\\administrateur\\desktop\\workshop\\workshop-ai\\tp-ai\\lib\\site-packages (from -r ./requirements.txt (line 2)) (0.1.11)\n",
      "Requirement already satisfied: langchain-core in c:\\users\\administrateur\\desktop\\workshop\\workshop-ai\\tp-ai\\lib\\site-packages (from -r ./requirements.txt (line 3)) (0.1.30)\n",
      "Requirement already satisfied: langchain_experimental in c:\\users\\administrateur\\desktop\\workshop\\workshop-ai\\tp-ai\\lib\\site-packages (from -r ./requirements.txt (line 4)) (0.0.53)\n",
      "Requirement already satisfied: pinecone-client in c:\\users\\administrateur\\desktop\\workshop\\workshop-ai\\tp-ai\\lib\\site-packages (from -r ./requirements.txt (line 5)) (3.1.0)\n",
      "Requirement already satisfied: cohere in c:\\users\\administrateur\\desktop\\workshop\\workshop-ai\\tp-ai\\lib\\site-packages (from -r ./requirements.txt (line 6)) (4.53)\n",
      "Requirement already satisfied: transformers in c:\\users\\administrateur\\desktop\\workshop\\workshop-ai\\tp-ai\\lib\\site-packages (from -r ./requirements.txt (line 7)) (4.38.2)\n",
      "Requirement already satisfied: python-dotenv in c:\\users\\administrateur\\desktop\\workshop\\workshop-ai\\tp-ai\\lib\\site-packages (from -r ./requirements.txt (line 8)) (1.0.1)\n",
      "Requirement already satisfied: torch in c:\\users\\administrateur\\desktop\\workshop\\workshop-ai\\tp-ai\\lib\\site-packages (from -r ./requirements.txt (line 9)) (2.2.1)\n",
      "Requirement already satisfied: jupyterlab in c:\\users\\administrateur\\desktop\\workshop\\workshop-ai\\tp-ai\\lib\\site-packages (from -r ./requirements.txt (line 10)) (4.1.4)\n",
      "Requirement already satisfied: PyYAML>=5.3 in c:\\users\\administrateur\\desktop\\workshop\\workshop-ai\\tp-ai\\lib\\site-packages (from langchain->-r ./requirements.txt (line 2)) (6.0.1)\n",
      "Requirement already satisfied: SQLAlchemy<3,>=1.4 in c:\\users\\administrateur\\desktop\\workshop\\workshop-ai\\tp-ai\\lib\\site-packages (from langchain->-r ./requirements.txt (line 2)) (2.0.28)\n",
      "Requirement already satisfied: aiohttp<4.0.0,>=3.8.3 in c:\\users\\administrateur\\desktop\\workshop\\workshop-ai\\tp-ai\\lib\\site-packages (from langchain->-r ./requirements.txt (line 2)) (3.9.3)\n",
      "Requirement already satisfied: dataclasses-json<0.7,>=0.5.7 in c:\\users\\administrateur\\desktop\\workshop\\workshop-ai\\tp-ai\\lib\\site-packages (from langchain->-r ./requirements.txt (line 2)) (0.6.4)\n",
      "Requirement already satisfied: jsonpatch<2.0,>=1.33 in c:\\users\\administrateur\\desktop\\workshop\\workshop-ai\\tp-ai\\lib\\site-packages (from langchain->-r ./requirements.txt (line 2)) (1.33)\n",
      "Requirement already satisfied: langchain-community<0.1,>=0.0.25 in c:\\users\\administrateur\\desktop\\workshop\\workshop-ai\\tp-ai\\lib\\site-packages (from langchain->-r ./requirements.txt (line 2)) (0.0.27)\n",
      "Requirement already satisfied: langchain-text-splitters<0.1,>=0.0.1 in c:\\users\\administrateur\\desktop\\workshop\\workshop-ai\\tp-ai\\lib\\site-packages (from langchain->-r ./requirements.txt (line 2)) (0.0.1)\n",
      "Requirement already satisfied: langsmith<0.2.0,>=0.1.17 in c:\\users\\administrateur\\desktop\\workshop\\workshop-ai\\tp-ai\\lib\\site-packages (from langchain->-r ./requirements.txt (line 2)) (0.1.23)\n",
      "Requirement already satisfied: numpy<2,>=1 in c:\\users\\administrateur\\desktop\\workshop\\workshop-ai\\tp-ai\\lib\\site-packages (from langchain->-r ./requirements.txt (line 2)) (1.26.4)\n",
      "Requirement already satisfied: pydantic<3,>=1 in c:\\users\\administrateur\\desktop\\workshop\\workshop-ai\\tp-ai\\lib\\site-packages (from langchain->-r ./requirements.txt (line 2)) (2.6.3)\n",
      "Requirement already satisfied: requests<3,>=2 in c:\\users\\administrateur\\desktop\\workshop\\workshop-ai\\tp-ai\\lib\\site-packages (from langchain->-r ./requirements.txt (line 2)) (2.31.0)\n",
      "Requirement already satisfied: tenacity<9.0.0,>=8.1.0 in c:\\users\\administrateur\\desktop\\workshop\\workshop-ai\\tp-ai\\lib\\site-packages (from langchain->-r ./requirements.txt (line 2)) (8.2.3)\n",
      "Requirement already satisfied: anyio<5,>=3 in c:\\users\\administrateur\\desktop\\workshop\\workshop-ai\\tp-ai\\lib\\site-packages (from langchain-core->-r ./requirements.txt (line 3)) (4.3.0)\n",
      "Requirement already satisfied: packaging<24.0,>=23.2 in c:\\users\\administrateur\\desktop\\workshop\\workshop-ai\\tp-ai\\lib\\site-packages (from langchain-core->-r ./requirements.txt (line 3)) (23.2)\n",
      "Requirement already satisfied: certifi>=2019.11.17 in c:\\users\\administrateur\\desktop\\workshop\\workshop-ai\\tp-ai\\lib\\site-packages (from pinecone-client->-r ./requirements.txt (line 5)) (2024.2.2)\n",
      "Requirement already satisfied: tqdm>=4.64.1 in c:\\users\\administrateur\\desktop\\workshop\\workshop-ai\\tp-ai\\lib\\site-packages (from pinecone-client->-r ./requirements.txt (line 5)) (4.66.2)\n",
      "Requirement already satisfied: typing-extensions>=3.7.4 in c:\\users\\administrateur\\desktop\\workshop\\workshop-ai\\tp-ai\\lib\\site-packages (from pinecone-client->-r ./requirements.txt (line 5)) (4.10.0)\n",
      "Requirement already satisfied: urllib3>=1.26.5 in c:\\users\\administrateur\\desktop\\workshop\\workshop-ai\\tp-ai\\lib\\site-packages (from pinecone-client->-r ./requirements.txt (line 5)) (2.2.1)\n",
      "Requirement already satisfied: backoff<3.0,>=2.0 in c:\\users\\administrateur\\desktop\\workshop\\workshop-ai\\tp-ai\\lib\\site-packages (from cohere->-r ./requirements.txt (line 6)) (2.2.1)\n",
      "Requirement already satisfied: fastavro<2.0,>=1.8 in c:\\users\\administrateur\\desktop\\workshop\\workshop-ai\\tp-ai\\lib\\site-packages (from cohere->-r ./requirements.txt (line 6)) (1.9.4)\n",
      "Requirement already satisfied: importlib_metadata<7.0,>=6.0 in c:\\users\\administrateur\\desktop\\workshop\\workshop-ai\\tp-ai\\lib\\site-packages (from cohere->-r ./requirements.txt (line 6)) (6.11.0)\n",
      "Requirement already satisfied: filelock in c:\\users\\administrateur\\desktop\\workshop\\workshop-ai\\tp-ai\\lib\\site-packages (from transformers->-r ./requirements.txt (line 7)) (3.13.1)\n",
      "Requirement already satisfied: huggingface-hub<1.0,>=0.19.3 in c:\\users\\administrateur\\desktop\\workshop\\workshop-ai\\tp-ai\\lib\\site-packages (from transformers->-r ./requirements.txt (line 7)) (0.21.4)\n",
      "Requirement already satisfied: regex!=2019.12.17 in c:\\users\\administrateur\\desktop\\workshop\\workshop-ai\\tp-ai\\lib\\site-packages (from transformers->-r ./requirements.txt (line 7)) (2023.12.25)\n",
      "Requirement already satisfied: tokenizers<0.19,>=0.14 in c:\\users\\administrateur\\desktop\\workshop\\workshop-ai\\tp-ai\\lib\\site-packages (from transformers->-r ./requirements.txt (line 7)) (0.15.2)\n",
      "Requirement already satisfied: safetensors>=0.4.1 in c:\\users\\administrateur\\desktop\\workshop\\workshop-ai\\tp-ai\\lib\\site-packages (from transformers->-r ./requirements.txt (line 7)) (0.4.2)\n",
      "Requirement already satisfied: sympy in c:\\users\\administrateur\\desktop\\workshop\\workshop-ai\\tp-ai\\lib\\site-packages (from torch->-r ./requirements.txt (line 9)) (1.12)\n",
      "Requirement already satisfied: networkx in c:\\users\\administrateur\\desktop\\workshop\\workshop-ai\\tp-ai\\lib\\site-packages (from torch->-r ./requirements.txt (line 9)) (3.2.1)\n",
      "Requirement already satisfied: jinja2 in c:\\users\\administrateur\\desktop\\workshop\\workshop-ai\\tp-ai\\lib\\site-packages (from torch->-r ./requirements.txt (line 9)) (3.1.3)\n",
      "Requirement already satisfied: fsspec in c:\\users\\administrateur\\desktop\\workshop\\workshop-ai\\tp-ai\\lib\\site-packages (from torch->-r ./requirements.txt (line 9)) (2024.2.0)\n",
      "Requirement already satisfied: async-lru>=1.0.0 in c:\\users\\administrateur\\desktop\\workshop\\workshop-ai\\tp-ai\\lib\\site-packages (from jupyterlab->-r ./requirements.txt (line 10)) (2.0.4)\n",
      "Requirement already satisfied: httpx>=0.25.0 in c:\\users\\administrateur\\desktop\\workshop\\workshop-ai\\tp-ai\\lib\\site-packages (from jupyterlab->-r ./requirements.txt (line 10)) (0.27.0)\n",
      "Requirement already satisfied: ipykernel in c:\\users\\administrateur\\desktop\\workshop\\workshop-ai\\tp-ai\\lib\\site-packages (from jupyterlab->-r ./requirements.txt (line 10)) (6.29.3)\n",
      "Requirement already satisfied: jupyter-core in c:\\users\\administrateur\\desktop\\workshop\\workshop-ai\\tp-ai\\lib\\site-packages (from jupyterlab->-r ./requirements.txt (line 10)) (5.7.1)\n",
      "Requirement already satisfied: jupyter-lsp>=2.0.0 in c:\\users\\administrateur\\desktop\\workshop\\workshop-ai\\tp-ai\\lib\\site-packages (from jupyterlab->-r ./requirements.txt (line 10)) (2.2.4)\n",
      "Requirement already satisfied: jupyter-server<3,>=2.4.0 in c:\\users\\administrateur\\desktop\\workshop\\workshop-ai\\tp-ai\\lib\\site-packages (from jupyterlab->-r ./requirements.txt (line 10)) (2.13.0)\n",
      "Requirement already satisfied: jupyterlab-server<3,>=2.19.0 in c:\\users\\administrateur\\desktop\\workshop\\workshop-ai\\tp-ai\\lib\\site-packages (from jupyterlab->-r ./requirements.txt (line 10)) (2.25.4)\n",
      "Requirement already satisfied: notebook-shim>=0.2 in c:\\users\\administrateur\\desktop\\workshop\\workshop-ai\\tp-ai\\lib\\site-packages (from jupyterlab->-r ./requirements.txt (line 10)) (0.2.4)\n",
      "Requirement already satisfied: tornado>=6.2.0 in c:\\users\\administrateur\\desktop\\workshop\\workshop-ai\\tp-ai\\lib\\site-packages (from jupyterlab->-r ./requirements.txt (line 10)) (6.4)\n",
      "Requirement already satisfied: traitlets in c:\\users\\administrateur\\desktop\\workshop\\workshop-ai\\tp-ai\\lib\\site-packages (from jupyterlab->-r ./requirements.txt (line 10)) (5.14.1)\n",
      "Requirement already satisfied: aiosignal>=1.1.2 in c:\\users\\administrateur\\desktop\\workshop\\workshop-ai\\tp-ai\\lib\\site-packages (from aiohttp<4.0.0,>=3.8.3->langchain->-r ./requirements.txt (line 2)) (1.3.1)\n",
      "Requirement already satisfied: attrs>=17.3.0 in c:\\users\\administrateur\\desktop\\workshop\\workshop-ai\\tp-ai\\lib\\site-packages (from aiohttp<4.0.0,>=3.8.3->langchain->-r ./requirements.txt (line 2)) (23.2.0)\n",
      "Requirement already satisfied: frozenlist>=1.1.1 in c:\\users\\administrateur\\desktop\\workshop\\workshop-ai\\tp-ai\\lib\\site-packages (from aiohttp<4.0.0,>=3.8.3->langchain->-r ./requirements.txt (line 2)) (1.4.1)\n",
      "Requirement already satisfied: multidict<7.0,>=4.5 in c:\\users\\administrateur\\desktop\\workshop\\workshop-ai\\tp-ai\\lib\\site-packages (from aiohttp<4.0.0,>=3.8.3->langchain->-r ./requirements.txt (line 2)) (6.0.5)\n",
      "Requirement already satisfied: yarl<2.0,>=1.0 in c:\\users\\administrateur\\desktop\\workshop\\workshop-ai\\tp-ai\\lib\\site-packages (from aiohttp<4.0.0,>=3.8.3->langchain->-r ./requirements.txt (line 2)) (1.9.4)\n",
      "Requirement already satisfied: idna>=2.8 in c:\\users\\administrateur\\desktop\\workshop\\workshop-ai\\tp-ai\\lib\\site-packages (from anyio<5,>=3->langchain-core->-r ./requirements.txt (line 3)) (3.6)\n",
      "Requirement already satisfied: sniffio>=1.1 in c:\\users\\administrateur\\desktop\\workshop\\workshop-ai\\tp-ai\\lib\\site-packages (from anyio<5,>=3->langchain-core->-r ./requirements.txt (line 3)) (1.3.1)\n",
      "Requirement already satisfied: marshmallow<4.0.0,>=3.18.0 in c:\\users\\administrateur\\desktop\\workshop\\workshop-ai\\tp-ai\\lib\\site-packages (from dataclasses-json<0.7,>=0.5.7->langchain->-r ./requirements.txt (line 2)) (3.21.1)\n",
      "Requirement already satisfied: typing-inspect<1,>=0.4.0 in c:\\users\\administrateur\\desktop\\workshop\\workshop-ai\\tp-ai\\lib\\site-packages (from dataclasses-json<0.7,>=0.5.7->langchain->-r ./requirements.txt (line 2)) (0.9.0)\n",
      "Requirement already satisfied: httpcore==1.* in c:\\users\\administrateur\\desktop\\workshop\\workshop-ai\\tp-ai\\lib\\site-packages (from httpx>=0.25.0->jupyterlab->-r ./requirements.txt (line 10)) (1.0.4)\n",
      "Requirement already satisfied: h11<0.15,>=0.13 in c:\\users\\administrateur\\desktop\\workshop\\workshop-ai\\tp-ai\\lib\\site-packages (from httpcore==1.*->httpx>=0.25.0->jupyterlab->-r ./requirements.txt (line 10)) (0.14.0)\n",
      "Requirement already satisfied: zipp>=0.5 in c:\\users\\administrateur\\desktop\\workshop\\workshop-ai\\tp-ai\\lib\\site-packages (from importlib_metadata<7.0,>=6.0->cohere->-r ./requirements.txt (line 6)) (3.17.0)\n",
      "Requirement already satisfied: MarkupSafe>=2.0 in c:\\users\\administrateur\\desktop\\workshop\\workshop-ai\\tp-ai\\lib\\site-packages (from jinja2->torch->-r ./requirements.txt (line 9)) (2.1.5)\n",
      "Requirement already satisfied: jsonpointer>=1.9 in c:\\users\\administrateur\\desktop\\workshop\\workshop-ai\\tp-ai\\lib\\site-packages (from jsonpatch<2.0,>=1.33->langchain->-r ./requirements.txt (line 2)) (2.4)\n",
      "Requirement already satisfied: argon2-cffi in c:\\users\\administrateur\\desktop\\workshop\\workshop-ai\\tp-ai\\lib\\site-packages (from jupyter-server<3,>=2.4.0->jupyterlab->-r ./requirements.txt (line 10)) (23.1.0)\n",
      "Requirement already satisfied: jupyter-client>=7.4.4 in c:\\users\\administrateur\\desktop\\workshop\\workshop-ai\\tp-ai\\lib\\site-packages (from jupyter-server<3,>=2.4.0->jupyterlab->-r ./requirements.txt (line 10)) (8.6.0)\n",
      "Requirement already satisfied: jupyter-events>=0.9.0 in c:\\users\\administrateur\\desktop\\workshop\\workshop-ai\\tp-ai\\lib\\site-packages (from jupyter-server<3,>=2.4.0->jupyterlab->-r ./requirements.txt (line 10)) (0.9.0)\n",
      "Requirement already satisfied: jupyter-server-terminals in c:\\users\\administrateur\\desktop\\workshop\\workshop-ai\\tp-ai\\lib\\site-packages (from jupyter-server<3,>=2.4.0->jupyterlab->-r ./requirements.txt (line 10)) (0.5.2)\n",
      "Requirement already satisfied: nbconvert>=6.4.4 in c:\\users\\administrateur\\desktop\\workshop\\workshop-ai\\tp-ai\\lib\\site-packages (from jupyter-server<3,>=2.4.0->jupyterlab->-r ./requirements.txt (line 10)) (7.16.2)\n",
      "Requirement already satisfied: nbformat>=5.3.0 in c:\\users\\administrateur\\desktop\\workshop\\workshop-ai\\tp-ai\\lib\\site-packages (from jupyter-server<3,>=2.4.0->jupyterlab->-r ./requirements.txt (line 10)) (5.9.2)\n",
      "Requirement already satisfied: overrides in c:\\users\\administrateur\\desktop\\workshop\\workshop-ai\\tp-ai\\lib\\site-packages (from jupyter-server<3,>=2.4.0->jupyterlab->-r ./requirements.txt (line 10)) (7.7.0)\n",
      "Requirement already satisfied: prometheus-client in c:\\users\\administrateur\\desktop\\workshop\\workshop-ai\\tp-ai\\lib\\site-packages (from jupyter-server<3,>=2.4.0->jupyterlab->-r ./requirements.txt (line 10)) (0.20.0)\n",
      "Requirement already satisfied: pywinpty in c:\\users\\administrateur\\desktop\\workshop\\workshop-ai\\tp-ai\\lib\\site-packages (from jupyter-server<3,>=2.4.0->jupyterlab->-r ./requirements.txt (line 10)) (2.0.13)\n",
      "Requirement already satisfied: pyzmq>=24 in c:\\users\\administrateur\\desktop\\workshop\\workshop-ai\\tp-ai\\lib\\site-packages (from jupyter-server<3,>=2.4.0->jupyterlab->-r ./requirements.txt (line 10)) (25.1.2)\n",
      "Requirement already satisfied: send2trash>=1.8.2 in c:\\users\\administrateur\\desktop\\workshop\\workshop-ai\\tp-ai\\lib\\site-packages (from jupyter-server<3,>=2.4.0->jupyterlab->-r ./requirements.txt (line 10)) (1.8.2)\n",
      "Requirement already satisfied: terminado>=0.8.3 in c:\\users\\administrateur\\desktop\\workshop\\workshop-ai\\tp-ai\\lib\\site-packages (from jupyter-server<3,>=2.4.0->jupyterlab->-r ./requirements.txt (line 10)) (0.18.0)\n",
      "Requirement already satisfied: websocket-client in c:\\users\\administrateur\\desktop\\workshop\\workshop-ai\\tp-ai\\lib\\site-packages (from jupyter-server<3,>=2.4.0->jupyterlab->-r ./requirements.txt (line 10)) (1.7.0)\n",
      "Requirement already satisfied: platformdirs>=2.5 in c:\\users\\administrateur\\desktop\\workshop\\workshop-ai\\tp-ai\\lib\\site-packages (from jupyter-core->jupyterlab->-r ./requirements.txt (line 10)) (4.2.0)\n",
      "Requirement already satisfied: pywin32>=300 in c:\\users\\administrateur\\desktop\\workshop\\workshop-ai\\tp-ai\\lib\\site-packages (from jupyter-core->jupyterlab->-r ./requirements.txt (line 10)) (306)\n",
      "Requirement already satisfied: babel>=2.10 in c:\\users\\administrateur\\desktop\\workshop\\workshop-ai\\tp-ai\\lib\\site-packages (from jupyterlab-server<3,>=2.19.0->jupyterlab->-r ./requirements.txt (line 10)) (2.14.0)\n",
      "Requirement already satisfied: json5>=0.9.0 in c:\\users\\administrateur\\desktop\\workshop\\workshop-ai\\tp-ai\\lib\\site-packages (from jupyterlab-server<3,>=2.19.0->jupyterlab->-r ./requirements.txt (line 10)) (0.9.22)\n",
      "Requirement already satisfied: jsonschema>=4.18.0 in c:\\users\\administrateur\\desktop\\workshop\\workshop-ai\\tp-ai\\lib\\site-packages (from jupyterlab-server<3,>=2.19.0->jupyterlab->-r ./requirements.txt (line 10)) (4.21.1)\n",
      "Requirement already satisfied: orjson<4.0.0,>=3.9.14 in c:\\users\\administrateur\\desktop\\workshop\\workshop-ai\\tp-ai\\lib\\site-packages (from langsmith<0.2.0,>=0.1.17->langchain->-r ./requirements.txt (line 2)) (3.9.15)\n",
      "Requirement already satisfied: annotated-types>=0.4.0 in c:\\users\\administrateur\\desktop\\workshop\\workshop-ai\\tp-ai\\lib\\site-packages (from pydantic<3,>=1->langchain->-r ./requirements.txt (line 2)) (0.6.0)\n",
      "Requirement already satisfied: pydantic-core==2.16.3 in c:\\users\\administrateur\\desktop\\workshop\\workshop-ai\\tp-ai\\lib\\site-packages (from pydantic<3,>=1->langchain->-r ./requirements.txt (line 2)) (2.16.3)\n",
      "Requirement already satisfied: charset-normalizer<4,>=2 in c:\\users\\administrateur\\desktop\\workshop\\workshop-ai\\tp-ai\\lib\\site-packages (from requests<3,>=2->langchain->-r ./requirements.txt (line 2)) (3.3.2)\n",
      "Requirement already satisfied: greenlet!=0.4.17 in c:\\users\\administrateur\\desktop\\workshop\\workshop-ai\\tp-ai\\lib\\site-packages (from SQLAlchemy<3,>=1.4->langchain->-r ./requirements.txt (line 2)) (3.0.3)\n",
      "Requirement already satisfied: colorama in c:\\users\\administrateur\\desktop\\workshop\\workshop-ai\\tp-ai\\lib\\site-packages (from tqdm>=4.64.1->pinecone-client->-r ./requirements.txt (line 5)) (0.4.6)\n",
      "Requirement already satisfied: comm>=0.1.1 in c:\\users\\administrateur\\desktop\\workshop\\workshop-ai\\tp-ai\\lib\\site-packages (from ipykernel->jupyterlab->-r ./requirements.txt (line 10)) (0.2.1)\n",
      "Requirement already satisfied: debugpy>=1.6.5 in c:\\users\\administrateur\\desktop\\workshop\\workshop-ai\\tp-ai\\lib\\site-packages (from ipykernel->jupyterlab->-r ./requirements.txt (line 10)) (1.8.1)\n",
      "Requirement already satisfied: ipython>=7.23.1 in c:\\users\\administrateur\\desktop\\workshop\\workshop-ai\\tp-ai\\lib\\site-packages (from ipykernel->jupyterlab->-r ./requirements.txt (line 10)) (8.22.2)\n",
      "Requirement already satisfied: matplotlib-inline>=0.1 in c:\\users\\administrateur\\desktop\\workshop\\workshop-ai\\tp-ai\\lib\\site-packages (from ipykernel->jupyterlab->-r ./requirements.txt (line 10)) (0.1.6)\n",
      "Requirement already satisfied: nest-asyncio in c:\\users\\administrateur\\desktop\\workshop\\workshop-ai\\tp-ai\\lib\\site-packages (from ipykernel->jupyterlab->-r ./requirements.txt (line 10)) (1.6.0)\n",
      "Requirement already satisfied: psutil in c:\\users\\administrateur\\desktop\\workshop\\workshop-ai\\tp-ai\\lib\\site-packages (from ipykernel->jupyterlab->-r ./requirements.txt (line 10)) (5.9.8)\n",
      "Requirement already satisfied: mpmath>=0.19 in c:\\users\\administrateur\\desktop\\workshop\\workshop-ai\\tp-ai\\lib\\site-packages (from sympy->torch->-r ./requirements.txt (line 9)) (1.3.0)\n",
      "Requirement already satisfied: decorator in c:\\users\\administrateur\\desktop\\workshop\\workshop-ai\\tp-ai\\lib\\site-packages (from ipython>=7.23.1->ipykernel->jupyterlab->-r ./requirements.txt (line 10)) (5.1.1)\n",
      "Requirement already satisfied: jedi>=0.16 in c:\\users\\administrateur\\desktop\\workshop\\workshop-ai\\tp-ai\\lib\\site-packages (from ipython>=7.23.1->ipykernel->jupyterlab->-r ./requirements.txt (line 10)) (0.19.1)\n",
      "Requirement already satisfied: prompt-toolkit<3.1.0,>=3.0.41 in c:\\users\\administrateur\\desktop\\workshop\\workshop-ai\\tp-ai\\lib\\site-packages (from ipython>=7.23.1->ipykernel->jupyterlab->-r ./requirements.txt (line 10)) (3.0.43)\n",
      "Requirement already satisfied: pygments>=2.4.0 in c:\\users\\administrateur\\desktop\\workshop\\workshop-ai\\tp-ai\\lib\\site-packages (from ipython>=7.23.1->ipykernel->jupyterlab->-r ./requirements.txt (line 10)) (2.17.2)\n",
      "Requirement already satisfied: stack-data in c:\\users\\administrateur\\desktop\\workshop\\workshop-ai\\tp-ai\\lib\\site-packages (from ipython>=7.23.1->ipykernel->jupyterlab->-r ./requirements.txt (line 10)) (0.6.3)\n",
      "Requirement already satisfied: jsonschema-specifications>=2023.03.6 in c:\\users\\administrateur\\desktop\\workshop\\workshop-ai\\tp-ai\\lib\\site-packages (from jsonschema>=4.18.0->jupyterlab-server<3,>=2.19.0->jupyterlab->-r ./requirements.txt (line 10)) (2023.12.1)\n",
      "Requirement already satisfied: referencing>=0.28.4 in c:\\users\\administrateur\\desktop\\workshop\\workshop-ai\\tp-ai\\lib\\site-packages (from jsonschema>=4.18.0->jupyterlab-server<3,>=2.19.0->jupyterlab->-r ./requirements.txt (line 10)) (0.33.0)\n",
      "Requirement already satisfied: rpds-py>=0.7.1 in c:\\users\\administrateur\\desktop\\workshop\\workshop-ai\\tp-ai\\lib\\site-packages (from jsonschema>=4.18.0->jupyterlab-server<3,>=2.19.0->jupyterlab->-r ./requirements.txt (line 10)) (0.18.0)\n",
      "Requirement already satisfied: python-dateutil>=2.8.2 in c:\\users\\administrateur\\desktop\\workshop\\workshop-ai\\tp-ai\\lib\\site-packages (from jupyter-client>=7.4.4->jupyter-server<3,>=2.4.0->jupyterlab->-r ./requirements.txt (line 10)) (2.9.0.post0)\n",
      "Requirement already satisfied: python-json-logger>=2.0.4 in c:\\users\\administrateur\\desktop\\workshop\\workshop-ai\\tp-ai\\lib\\site-packages (from jupyter-events>=0.9.0->jupyter-server<3,>=2.4.0->jupyterlab->-r ./requirements.txt (line 10)) (2.0.7)\n",
      "Requirement already satisfied: rfc3339-validator in c:\\users\\administrateur\\desktop\\workshop\\workshop-ai\\tp-ai\\lib\\site-packages (from jupyter-events>=0.9.0->jupyter-server<3,>=2.4.0->jupyterlab->-r ./requirements.txt (line 10)) (0.1.4)\n",
      "Requirement already satisfied: rfc3986-validator>=0.1.1 in c:\\users\\administrateur\\desktop\\workshop\\workshop-ai\\tp-ai\\lib\\site-packages (from jupyter-events>=0.9.0->jupyter-server<3,>=2.4.0->jupyterlab->-r ./requirements.txt (line 10)) (0.1.1)\n",
      "Requirement already satisfied: beautifulsoup4 in c:\\users\\administrateur\\desktop\\workshop\\workshop-ai\\tp-ai\\lib\\site-packages (from nbconvert>=6.4.4->jupyter-server<3,>=2.4.0->jupyterlab->-r ./requirements.txt (line 10)) (4.12.3)\n",
      "Requirement already satisfied: bleach!=5.0.0 in c:\\users\\administrateur\\desktop\\workshop\\workshop-ai\\tp-ai\\lib\\site-packages (from nbconvert>=6.4.4->jupyter-server<3,>=2.4.0->jupyterlab->-r ./requirements.txt (line 10)) (6.1.0)\n",
      "Requirement already satisfied: defusedxml in c:\\users\\administrateur\\desktop\\workshop\\workshop-ai\\tp-ai\\lib\\site-packages (from nbconvert>=6.4.4->jupyter-server<3,>=2.4.0->jupyterlab->-r ./requirements.txt (line 10)) (0.7.1)\n",
      "Requirement already satisfied: jupyterlab-pygments in c:\\users\\administrateur\\desktop\\workshop\\workshop-ai\\tp-ai\\lib\\site-packages (from nbconvert>=6.4.4->jupyter-server<3,>=2.4.0->jupyterlab->-r ./requirements.txt (line 10)) (0.3.0)\n",
      "Requirement already satisfied: mistune<4,>=2.0.3 in c:\\users\\administrateur\\desktop\\workshop\\workshop-ai\\tp-ai\\lib\\site-packages (from nbconvert>=6.4.4->jupyter-server<3,>=2.4.0->jupyterlab->-r ./requirements.txt (line 10)) (3.0.2)\n",
      "Requirement already satisfied: nbclient>=0.5.0 in c:\\users\\administrateur\\desktop\\workshop\\workshop-ai\\tp-ai\\lib\\site-packages (from nbconvert>=6.4.4->jupyter-server<3,>=2.4.0->jupyterlab->-r ./requirements.txt (line 10)) (0.9.0)\n",
      "Requirement already satisfied: pandocfilters>=1.4.1 in c:\\users\\administrateur\\desktop\\workshop\\workshop-ai\\tp-ai\\lib\\site-packages (from nbconvert>=6.4.4->jupyter-server<3,>=2.4.0->jupyterlab->-r ./requirements.txt (line 10)) (1.5.1)\n",
      "Requirement already satisfied: tinycss2 in c:\\users\\administrateur\\desktop\\workshop\\workshop-ai\\tp-ai\\lib\\site-packages (from nbconvert>=6.4.4->jupyter-server<3,>=2.4.0->jupyterlab->-r ./requirements.txt (line 10)) (1.2.1)\n",
      "Requirement already satisfied: fastjsonschema in c:\\users\\administrateur\\desktop\\workshop\\workshop-ai\\tp-ai\\lib\\site-packages (from nbformat>=5.3.0->jupyter-server<3,>=2.4.0->jupyterlab->-r ./requirements.txt (line 10)) (2.19.1)\n",
      "Requirement already satisfied: mypy-extensions>=0.3.0 in c:\\users\\administrateur\\desktop\\workshop\\workshop-ai\\tp-ai\\lib\\site-packages (from typing-inspect<1,>=0.4.0->dataclasses-json<0.7,>=0.5.7->langchain->-r ./requirements.txt (line 2)) (1.0.0)\n",
      "Requirement already satisfied: argon2-cffi-bindings in c:\\users\\administrateur\\desktop\\workshop\\workshop-ai\\tp-ai\\lib\\site-packages (from argon2-cffi->jupyter-server<3,>=2.4.0->jupyterlab->-r ./requirements.txt (line 10)) (21.2.0)\n",
      "Requirement already satisfied: six>=1.9.0 in c:\\users\\administrateur\\desktop\\workshop\\workshop-ai\\tp-ai\\lib\\site-packages (from bleach!=5.0.0->nbconvert>=6.4.4->jupyter-server<3,>=2.4.0->jupyterlab->-r ./requirements.txt (line 10)) (1.16.0)\n",
      "Requirement already satisfied: webencodings in c:\\users\\administrateur\\desktop\\workshop\\workshop-ai\\tp-ai\\lib\\site-packages (from bleach!=5.0.0->nbconvert>=6.4.4->jupyter-server<3,>=2.4.0->jupyterlab->-r ./requirements.txt (line 10)) (0.5.1)\n",
      "Requirement already satisfied: parso<0.9.0,>=0.8.3 in c:\\users\\administrateur\\desktop\\workshop\\workshop-ai\\tp-ai\\lib\\site-packages (from jedi>=0.16->ipython>=7.23.1->ipykernel->jupyterlab->-r ./requirements.txt (line 10)) (0.8.3)\n",
      "Requirement already satisfied: fqdn in c:\\users\\administrateur\\desktop\\workshop\\workshop-ai\\tp-ai\\lib\\site-packages (from jsonschema[format-nongpl]>=4.18.0->jupyter-events>=0.9.0->jupyter-server<3,>=2.4.0->jupyterlab->-r ./requirements.txt (line 10)) (1.5.1)\n",
      "Requirement already satisfied: isoduration in c:\\users\\administrateur\\desktop\\workshop\\workshop-ai\\tp-ai\\lib\\site-packages (from jsonschema[format-nongpl]>=4.18.0->jupyter-events>=0.9.0->jupyter-server<3,>=2.4.0->jupyterlab->-r ./requirements.txt (line 10)) (20.11.0)\n",
      "Requirement already satisfied: uri-template in c:\\users\\administrateur\\desktop\\workshop\\workshop-ai\\tp-ai\\lib\\site-packages (from jsonschema[format-nongpl]>=4.18.0->jupyter-events>=0.9.0->jupyter-server<3,>=2.4.0->jupyterlab->-r ./requirements.txt (line 10)) (1.3.0)\n",
      "Requirement already satisfied: webcolors>=1.11 in c:\\users\\administrateur\\desktop\\workshop\\workshop-ai\\tp-ai\\lib\\site-packages (from jsonschema[format-nongpl]>=4.18.0->jupyter-events>=0.9.0->jupyter-server<3,>=2.4.0->jupyterlab->-r ./requirements.txt (line 10)) (1.13)\n",
      "Requirement already satisfied: wcwidth in c:\\users\\administrateur\\desktop\\workshop\\workshop-ai\\tp-ai\\lib\\site-packages (from prompt-toolkit<3.1.0,>=3.0.41->ipython>=7.23.1->ipykernel->jupyterlab->-r ./requirements.txt (line 10)) (0.2.13)\n",
      "Requirement already satisfied: cffi>=1.0.1 in c:\\users\\administrateur\\desktop\\workshop\\workshop-ai\\tp-ai\\lib\\site-packages (from argon2-cffi-bindings->argon2-cffi->jupyter-server<3,>=2.4.0->jupyterlab->-r ./requirements.txt (line 10)) (1.16.0)\n",
      "Requirement already satisfied: soupsieve>1.2 in c:\\users\\administrateur\\desktop\\workshop\\workshop-ai\\tp-ai\\lib\\site-packages (from beautifulsoup4->nbconvert>=6.4.4->jupyter-server<3,>=2.4.0->jupyterlab->-r ./requirements.txt (line 10)) (2.5)\n",
      "Requirement already satisfied: executing>=1.2.0 in c:\\users\\administrateur\\desktop\\workshop\\workshop-ai\\tp-ai\\lib\\site-packages (from stack-data->ipython>=7.23.1->ipykernel->jupyterlab->-r ./requirements.txt (line 10)) (2.0.1)\n",
      "Requirement already satisfied: asttokens>=2.1.0 in c:\\users\\administrateur\\desktop\\workshop\\workshop-ai\\tp-ai\\lib\\site-packages (from stack-data->ipython>=7.23.1->ipykernel->jupyterlab->-r ./requirements.txt (line 10)) (2.4.1)\n",
      "Requirement already satisfied: pure-eval in c:\\users\\administrateur\\desktop\\workshop\\workshop-ai\\tp-ai\\lib\\site-packages (from stack-data->ipython>=7.23.1->ipykernel->jupyterlab->-r ./requirements.txt (line 10)) (0.2.2)\n",
      "Requirement already satisfied: pycparser in c:\\users\\administrateur\\desktop\\workshop\\workshop-ai\\tp-ai\\lib\\site-packages (from cffi>=1.0.1->argon2-cffi-bindings->argon2-cffi->jupyter-server<3,>=2.4.0->jupyterlab->-r ./requirements.txt (line 10)) (2.21)\n",
      "Requirement already satisfied: arrow>=0.15.0 in c:\\users\\administrateur\\desktop\\workshop\\workshop-ai\\tp-ai\\lib\\site-packages (from isoduration->jsonschema[format-nongpl]>=4.18.0->jupyter-events>=0.9.0->jupyter-server<3,>=2.4.0->jupyterlab->-r ./requirements.txt (line 10)) (1.3.0)\n",
      "Requirement already satisfied: types-python-dateutil>=2.8.10 in c:\\users\\administrateur\\desktop\\workshop\\workshop-ai\\tp-ai\\lib\\site-packages (from arrow>=0.15.0->isoduration->jsonschema[format-nongpl]>=4.18.0->jupyter-events>=0.9.0->jupyter-server<3,>=2.4.0->jupyterlab->-r ./requirements.txt (line 10)) (2.8.19.20240311)\n",
      "Note: you may need to restart the kernel to use updated packages.\n"
     ]
    }
   ],
   "source": [
    "pip install -r ./requirements.txt"
   ]
  },
  {
   "cell_type": "markdown",
   "id": "3534918b-a514-4df1-b7eb-21e5f9f94d11",
   "metadata": {},
   "source": [
    "### Verify if LangChain is installed"
   ]
  },
  {
   "cell_type": "code",
   "execution_count": 2,
   "id": "bdf2f431",
   "metadata": {
    "colab": {
     "base_uri": "https://localhost:8080/"
    },
    "executionInfo": {
     "elapsed": 4913,
     "status": "ok",
     "timestamp": 1695281268475,
     "user": {
      "displayName": "Andrei Dumitrescu",
      "userId": "04285534149796751164"
     },
     "user_tz": -180
    },
    "id": "bdf2f431",
    "outputId": "01809e7f-0539-4eae-b6af-19117ab595eb",
    "scrolled": true
   },
   "outputs": [
    {
     "name": "stdout",
     "output_type": "stream",
     "text": [
      "Name: langchain\n",
      "Version: 0.1.11\n",
      "Summary: Building applications with LLMs through composability\n",
      "Home-page: https://github.com/langchain-ai/langchain\n",
      "Author: \n",
      "Author-email: \n",
      "License: MIT\n",
      "Location: C:\\Users\\Administrateur\\Desktop\\workshop\\Workshop-AI\\tp-AI\\Lib\\site-packages\n",
      "Requires: aiohttp, dataclasses-json, jsonpatch, langchain-community, langchain-core, langchain-text-splitters, langsmith, numpy, pydantic, PyYAML, requests, SQLAlchemy, tenacity\n",
      "Required-by: langchain-experimental\n",
      "Note: you may need to restart the kernel to use updated packages.\n"
     ]
    }
   ],
   "source": [
    "pip show langchain"
   ]
  },
  {
   "cell_type": "markdown",
   "id": "f4407a3a",
   "metadata": {
    "id": "f4407a3a"
   },
   "source": [
    "#### Python-dotenv"
   ]
  },
  {
   "cell_type": "code",
   "execution_count": 3,
   "id": "d9420415",
   "metadata": {
    "id": "d9420415",
    "outputId": "0e64cc2d-6d74-41b7-a8c2-b311e2b72ebc",
    "scrolled": true
   },
   "outputs": [
    {
     "name": "stdout",
     "output_type": "stream",
     "text": [
      "WgY2t57bYHuvIpKRFyxz6JHGy5N8eLeTCYDObTof\n"
     ]
    }
   ],
   "source": [
    "import os\n",
    "from dotenv import load_dotenv, find_dotenv\n",
    "\n",
    "# loading the API Keys (Cohere, Pinecone) from .env \n",
    "load_dotenv(find_dotenv(), override=True)\n",
    "\n",
    "COHERE_API_KEY = os.environ.get('COHERE_API_KEY')\n",
    "print(COHERE_API_KEY)"
   ]
  },
  {
   "cell_type": "markdown",
   "id": "46e63e31-28ad-4d89-866f-238f818c4315",
   "metadata": {},
   "source": [
    "## Early Experimentation with LLMs Using LangChain "
   ]
  },
  {
   "cell_type": "markdown",
   "id": "975fc78c-0143-4c44-91a9-d89c609f484d",
   "metadata": {},
   "source": [
    "### Introduction\n",
    "\n",
    "LangChain is a framework for developing applications powered by language models. It enables applications that:\n",
    "\n",
    "- Are context-aware: connect a language model to sources of context (prompt instructions, few shot examples, content to ground its response in, etc.)\n",
    "\n",
    "- Reason: rely on a language model to reason (about how to answer based on provided context, what actions to take, etc.)"
   ]
  },
  {
   "cell_type": "markdown",
   "id": "e29231e2",
   "metadata": {
    "id": "e29231e2"
   },
   "source": [
    "### LLM Models (Wrappers): Cohere\n",
    "\n",
    "https://python.langchain.com/docs/integrations/llms/cohere\n",
    "\n",
    "Cohere is a Canadian startup that provides natural language processing models that help companies improve human-machine interactions.\n",
    "\n",
    "- Founded in 2020\n",
    "- Based in Toronto, Canada "
   ]
  },
  {
   "cell_type": "markdown",
   "id": "869d5b42-233d-45af-95c5-e2c0413b4015",
   "metadata": {},
   "source": [
    "#### Setting up the LLM"
   ]
  },
  {
   "cell_type": "code",
   "execution_count": 4,
   "id": "8d37cc56",
   "metadata": {
    "id": "8d37cc56",
    "outputId": "0ce7f40e-3a0b-48f7-9bad-fd5b4fc91abe"
   },
   "outputs": [
    {
     "name": "stdout",
     "output_type": "stream",
     "text": [
      "\u001b[1mCohere\u001b[0m\n",
      "Params: {'model': None, 'max_tokens': 512, 'temperature': 0.7, 'k': 0, 'p': 1, 'frequency_penalty': 0.0, 'presence_penalty': 0.0, 'truncate': None}\n"
     ]
    }
   ],
   "source": [
    "from langchain.llms import Cohere\n",
    "\n",
    "# Create Cohere LLM instance with parameters\n",
    "llm = Cohere(\n",
    "            # A non-negative float that tunes the degree of randomness in generation.\n",
    "            # Higher values give more diverse, creative responses\n",
    "            # Lower values give more focused, deterministic responses\n",
    "            temperature=0.7, \n",
    "            # The maximum number of tokens to generate in the response\n",
    "            max_tokens=512, \n",
    "            cohere_api_key=COHERE_API_KEY)\n",
    "print(llm)"
   ]
  },
  {
   "cell_type": "markdown",
   "id": "2538e0f1-f723-439d-82ce-fb9908cda59e",
   "metadata": {},
   "source": [
    "#### First try - test Cohere"
   ]
  },
  {
   "cell_type": "code",
   "execution_count": 5,
   "id": "5d355809",
   "metadata": {
    "id": "5d355809",
    "outputId": "d4362c8b-be35-43e2-81f9-8dfd9f4711b6"
   },
   "outputs": [
    {
     "name": "stdout",
     "output_type": "stream",
     "text": [
      " 5G networks deliver faster speeds and lower latency than 4G and 3G networks, enabling a new era of internet connectivity and innovative technologies. \n"
     ]
    }
   ],
   "source": [
    "# Generate response from LLM by invoking it \n",
    "output = llm.invoke('explain 5G networks in one sentence')\n",
    "print(output)"
   ]
  },
  {
   "cell_type": "code",
   "execution_count": 7,
   "id": "e29c5e84",
   "metadata": {
    "id": "e29c5e84",
    "outputId": "4029edf6-7c35-4a06-dda7-e6093f356929"
   },
   "outputs": [
    {
     "name": "stdout",
     "output_type": "stream",
     "text": [
      "8\n"
     ]
    }
   ],
   "source": [
    "# Pass prompt to LLM's get_num_tokens method\n",
    "num_tokens = llm.get_num_tokens('explain 5G networks in one sentence')\n",
    "\n",
    "# Print number of tokens in the tokenized prompt.\n",
    "print(num_tokens)"
   ]
  },
  {
   "cell_type": "code",
   "execution_count": 8,
   "id": "b98fd88a",
   "metadata": {
    "id": "b98fd88a",
    "outputId": "9b1d4381-af93-4bf7-98cb-2a992155af78"
   },
   "outputs": [
    {
     "name": "stdout",
     "output_type": "stream",
     "text": [
      "[[Generation(text=\" The European Union (EU) is a political and economic union of 27 countries. It was established on 1 November 1993 with the signing of the Treaty of Maastricht by the member states at the time. The EU has grown over time, with new member states joining through subsequent enlargement. \\n\\nThe EU's primary purpose is to promote peace, prosperity, and cooperation among its member states, which are located primarily in Europe but also include countries in Northern Africa and the Middle East. It does so through the establishment of a single market, the adoption of a common currency (the euro), the implementation of common policies on a range of issues, and the promotion of democracy and the rule of law.\\n\\nThe EU has had a significant impact on the social, economic, and political landscape of Europe and continues to play a key role in shaping the future of the region. \")], [Generation(text=' The formula for the area of a room depends on the shape of the room. Here are the formulas for the area of common shapes of rooms:\\n1. Square or Rectangular Room: For a square or rectangular room, the formula is:\\n- Area = Length × Width\\n\\nWhere \"length\" and \"width\" are the dimensions of the room.\\n\\n2. Cuboidal Room: For a cuboidal (three-dimensional) room with equal lengths on all sides, the formula is:\\n- Volume = Length × Width × Height\\n\\nWhere \"length,\" \"width,\" and \"height\" are the dimensions of the room.\\n\\n3. Triangular Room: For a triangular room, the area formula depends on the specific type of triangle:\\n- For an equilateral triangle, where all sides are equal:\\n- Area = (sqrt(3) / 4) × s²\\n- Where s is the length of one side.\\n\\n4. Circular Room: For a circular room, the area of the circular floor space can be calculated using the formula:\\n- Area = π × r²\\n- Where r is the radius of the circular room.\\n\\nThese formulas provide an estimate of the spatial area within each shape. Keep in mind that these formulas assume that walls are straight and parallel, and surfaces are flat. In reality, when measuring a room, you may encounter features like bay windows, odd angles, or complex shapes, making it more challenging to apply these formulas directly. In such cases, break down the room into simpler shapes, calculate the area of each, and then sum them up to find the total area. ')]]\n"
     ]
    }
   ],
   "source": [
    "# Prompt LLM with two questions \n",
    "prompts = ['What is the date of the European Union creation.', \n",
    "           'What is the formula for the area of a room?']\n",
    "\n",
    "# Generate responses to prompts\n",
    "# In this example, we can't use invoke() -> we don't have a single prompt\n",
    "output = llm.generate(prompts)  \n",
    "\n",
    "# Print list of generated responses\n",
    "print(output.generations)"
   ]
  },
  {
   "cell_type": "markdown",
   "id": "8f8339a9-55f8-4c33-807d-cd66bf38882a",
   "metadata": {},
   "source": [
    "#### Example in order to extract the answer of the  first question"
   ]
  },
  {
   "cell_type": "code",
   "execution_count": 9,
   "id": "e0725e38",
   "metadata": {
    "id": "e0725e38",
    "outputId": "cb53ba44-16ef-4011-a757-bd5770cce2cc"
   },
   "outputs": [
    {
     "name": "stdout",
     "output_type": "stream",
     "text": [
      " The European Union (EU) is a political and economic union of 27 countries. It was established on 1 November 1993 with the signing of the Treaty of Maastricht by the member states at the time. The EU has grown over time, with new member states joining through subsequent enlargement. \n",
      "\n",
      "The EU's primary purpose is to promote peace, prosperity, and cooperation among its member states, which are located primarily in Europe but also include countries in Northern Africa and the Middle East. It does so through the establishment of a single market, the adoption of a common currency (the euro), the implementation of common policies on a range of issues, and the promotion of democracy and the rule of law.\n",
      "\n",
      "The EU has had a significant impact on the social, economic, and political landscape of Europe and continues to play a key role in shaping the future of the region. \n"
     ]
    }
   ],
   "source": [
    "print(output.generations[0][0].text)"
   ]
  },
  {
   "cell_type": "markdown",
   "id": "4b42ee2d-f74b-40aa-8e42-07d417090f92",
   "metadata": {
    "id": "7703b86d",
    "outputId": "74a7c223-0098-460c-c333-37a5925b42f6"
   },
   "source": [
    "#### understand the difference between invoke() and generate() - check here"
   ]
  },
  {
   "cell_type": "markdown",
   "id": "39444a1c-7fd3-4d7b-bbe4-2f8bbdca259e",
   "metadata": {},
   "source": [
    "https://chat.langchain.com/  \n",
    "https://python.langchain.com/docs/get_started/introduction\n",
    "https://api.python.langchain.com/en/latest/langchain_api_reference.html"
   ]
  },
  {
   "cell_type": "markdown",
   "id": "c20ee709",
   "metadata": {
    "id": "c20ee709"
   },
   "source": [
    "## Deep dive into LangChain "
   ]
  },
  {
   "cell_type": "markdown",
   "id": "6d3ad29b",
   "metadata": {
    "id": "6d3ad29b"
   },
   "source": [
    "### Prompt Templates\n",
    "\n",
    "https://python.langchain.com/docs/modules/model_io/prompts/quick_start"
   ]
  },
  {
   "cell_type": "code",
   "execution_count": 10,
   "id": "612ed8a8",
   "metadata": {
    "id": "612ed8a8",
    "outputId": "7cf93377-faea-47c8-a86e-d23de5591459"
   },
   "outputs": [
    {
     "name": "stdout",
     "output_type": "stream",
     "text": [
      "input_variables=['concept', 'language'] template='You are an experienced mathematician professor.\\nWrite a few sentences about the following mathematical {concept} in {language}.'\n"
     ]
    }
   ],
   "source": [
    "from langchain import PromptTemplate\n",
    "\n",
    "# Define template with input variables in braces\n",
    "template = '''You are an experienced mathematician professor.\n",
    "Write a few sentences about the following mathematical {concept} in {language}.'''\n",
    "\n",
    "# Create PromptTemplate object with input variables\n",
    "prompt = PromptTemplate(\n",
    "    input_variables=['concept', 'language'], # list of input variable names\n",
    "    template=template # template string\n",
    ")\n",
    "\n",
    "print(prompt)"
   ]
  },
  {
   "cell_type": "code",
   "execution_count": 12,
   "id": "b28accc9",
   "metadata": {
    "id": "b28accc9",
    "outputId": "9a33f6f3-5b1c-4688-b5c9-51f1419ce176"
   },
   "outputs": [
    {
     "name": "stdout",
     "output_type": "stream",
     "text": [
      "\u001b[1mCohere\u001b[0m\n",
      "Params: {'model': None, 'max_tokens': 512, 'temperature': 0.7, 'k': 0, 'p': 1, 'frequency_penalty': 0.0, 'presence_penalty': 0.0, 'truncate': None}\n",
      " The Pythagorean theorem is a fundamental concept in geometry that relates to the properties of right triangles. This theorem states that in a right triangle, the square of the length of the hypotenuse (the side opposite the right angle) is equal to the sum of the squares of the lengths of the other two sides. This relationship can be expressed mathematically as follows:\n",
      "\n",
      "\"c^2 = a^2 + b^2\"\n",
      "\n",
      "Where:\n",
      "\n",
      "c represents the length of the hypotenuse.\n",
      "a and b represent the lengths of the other two sides.\n",
      "\n",
      "This theorem has numerous applications in mathematics and science, and it is a fundamental concept that has been known since ancient times. The theorem is named after the Greek mathematician Pythagoras, who worked with right triangles and developed this fundamental relationship between their sides. \n"
     ]
    }
   ],
   "source": [
    "from langchain.llms import Cohere\n",
    "\n",
    "# Create Cohere LLM instance with parameters\n",
    "llm = Cohere(temperature=0.7, max_tokens=512, cohere_api_key=COHERE_API_KEY)\n",
    "print(llm)\n",
    "\n",
    "# Format prompt template with input values \n",
    "output = llm(prompt.format(concept='Pythagorean theorem', language='Spanish'))\n",
    "print(output)"
   ]
  },
  {
   "cell_type": "markdown",
   "id": "207b22ac-3f0b-4128-8e55-ab5f99359bb9",
   "metadata": {},
   "source": [
    "### Learn about Chains"
   ]
  },
  {
   "cell_type": "markdown",
   "id": "5bfd00f0-afb9-4a64-8788-5d9f0f68306d",
   "metadata": {},
   "source": [
    "Resources :\n",
    "\n",
    "https://python.langchain.com/docs/modules/chains  \n",
    "https://chat.langchain.com/"
   ]
  },
  {
   "cell_type": "markdown",
   "id": "025d9b84",
   "metadata": {
    "id": "025d9b84"
   },
   "source": [
    "#### Simple Chains"
   ]
  },
  {
   "cell_type": "code",
   "execution_count": 14,
   "id": "fd1e5278",
   "metadata": {
    "id": "fd1e5278"
   },
   "outputs": [
    {
     "name": "stdout",
     "output_type": "stream",
     "text": [
      "{'concept': 'Pythagorean theorem', 'language': 'Spanish', 'text': 'El teorema de Pitágoras es un resultado fundamental en geometría euclidiana. Afirma que en un triángulo rectángulo, se cumple que:\\n\\na^2 + b^2 = c^2\\n\\ndonde a y b son los catetos y c es la hipotenusa. Este teorema tiene numerosas aplicaciones en matemáticas y en la vida cotidiana, ya que permite calcular lados desconocidos de triángulos rectángulos. Es una herramienta esencial en muchas áreas de las ciencias y la ingeniería.\\n\\nLa demostración de este teorema es una de las más conocidas y enseñadas en matemáticas, y se basa en la construcción geométrica y algunas propiedades básicas de los triángulos y los números reales. La belleza de este teorema reside en su sencillez y en su amplia aplicabilidad.'}\n"
     ]
    }
   ],
   "source": [
    "from langchain.chat_models import ChatCohere\n",
    "from langchain import PromptTemplate\n",
    "from langchain.chains import LLMChain\n",
    "\n",
    "# Create ChatCohere LLM instance\n",
    "llm = ChatCohere(temperature=0.5, cohere_api_key=COHERE_API_KEY)\n",
    "\n",
    "# Define template string \n",
    "template = '''You are an experienced mathematician professor.\n",
    "Write a few sentences about the following mathematical {concept} in {language}.'''\n",
    "\n",
    "# Create PromptTemplate \n",
    "prompt = PromptTemplate(\n",
    "    input_variables=['concept', 'language'],\n",
    "    template=template\n",
    ")\n",
    "\n",
    "# Create LLMChain with llm and prompt\n",
    "chain = LLMChain(llm=llm, prompt=prompt)\n",
    "\n",
    "# Run chain with input values\n",
    "output = chain.invoke({'concept': 'Pythagorean theorem', 'language': 'Spanish'})\n",
    "print(output)"
   ]
  },
  {
   "cell_type": "markdown",
   "id": "f283cc13",
   "metadata": {
    "id": "f283cc13"
   },
   "source": [
    "#### Sequential Chains"
   ]
  },
  {
   "cell_type": "code",
   "execution_count": 16,
   "id": "9d68115d",
   "metadata": {
    "id": "9d68115d",
    "outputId": "2aa75fcc-88bb-4972-c9dc-0eec0f0b7d07",
    "scrolled": true
   },
   "outputs": [
    {
     "name": "stdout",
     "output_type": "stream",
     "text": [
      "\n",
      "\n",
      "\u001b[1m> Entering new SimpleSequentialChain chain...\u001b[0m\n",
      "\u001b[36;1m\u001b[1;3m The concept of softmax is a probabilistic distribution that ensures every probability adds up to 1, with every probability variable ranging between 0 and 1. \n",
      "\n",
      "Here's a function named `softmax` that takes a vector `logits` (pre-softmax probabilities) as input and returns the corresponding softmax probabilities:\n",
      "```python\n",
      "def softmax(logits):\n",
      "    # Calculate the sum of exponents over all probabilities\n",
      "    z = sum(math.exp(logit) for logit in logits)\n",
      "    # Exponentiate each probability using the previous sum\n",
      "    exponents = [(math.exp(logit) / z) for logit in logits]\n",
      "    # Return the list of softmax probabilities\n",
      "    return exponents\n",
      "```\n",
      "\n",
      "In this implementation, the input `logits` is a list of probabilities in logits format. The function first calculates the sum of the exponentiated probabilities and then divides each probability by this sum to ensure the proper softmax normalization. \n",
      "\n",
      "You can use this function by providing a list of logits, and it will return the corresponding softmax probabilities. \n",
      "\n",
      "Let's take the following logits as an example:\n",
      "```python\n",
      "logits = [0.1, 0.2, 0.3, 0.4]\n",
      "```\n",
      "\n",
      "Running the softmax function on this input will return:\n",
      "```python\n",
      "[0.27, 0.22, 0.17, 0.09]\n",
      "```\n",
      "\n",
      "This output represents the probabilities, with each value falling between 0 and 1, and sums up to 1 as well. \n",
      "\n",
      "Is there anything else you'd like to do with this softmax function, or can we move on to a new topic? Let me know if you'd like me to adjust the example or explain other concepts! \u001b[0m\n",
      "\u001b[33;1m\u001b[1;3mThe softmax function is a crucial element in many machine learning and deep learning applications, especially in neural networks, as it serves the purpose of converting a vector of raw values, or logits, into a probability distribution. This process ensures that the raw values become more interpretable as probabilities. \n",
      "\n",
      "Here's a breakdown of the softmax function's operation, using the provided example:\n",
      "\n",
      "1. **Input**: The function takes a list of logits, which in the given example are [0.1, 0.2, 0.3, 0.4]. These values represent a vector of raw scores or probabilities before normalization.\n",
      "\n",
      "2. **Calculation of the Sum of Exponents**: The first step in the softmax function is to calculate the sum of exponents of all the probabilities. This is done by iterating through each logit and applying the exponentiation operation. In the example, this would involve calculating `math.exp(0.1) + math.exp(0.2) + math.exp(0.3) + math.exp(0.4)`.\n",
      "\n",
      "3. **Normalization**: After computing the sum of exponents, the function moves on to normalize each probability. This is achieved by dividing each individual exponent by the total sum computed in the previous step. This division ensures that the resulting probabilities are in the range of 0 to 1 and that they add up to 1.\n",
      "\n",
      "4. **Output**: The output of the function is a list of these normalized probabilities, which in the given example is `[0.27, 0.22, 0.17, 0.09]`.\n",
      "\n",
      "These values represent the softmax probabilities derived from the input logits. They provide a clearer interpretation, indicating the likelihood of each outcome corresponding to the given inputs.\n",
      "\n",
      "The softmax function is a key component when dealing with classification problems, as it allows you to convert raw model outputs into a meaningful probability distribution over the classes. This helps in understanding the confidence of the model in each prediction.\n",
      "\n",
      "Regarding the code implementation, it uses the `math` module in Python, which provides the necessary mathematical functions. The function `softmax` takes a single argument, `logits`, which is expected to be a list of numbers representing the logits.\n",
      "\n",
      "You can use this softmax function to obtain probabilities from logits in your machine learning workflows, helping you interpret the model's predictions and make informed decisions based on them. It's a vital tool when working with various classification algorithms and deep neural networks.\u001b[0m\n",
      "\n",
      "\u001b[1m> Finished chain.\u001b[0m\n"
     ]
    }
   ],
   "source": [
    "from langchain.chat_models import ChatCohere\n",
    "from langchain.llms import Cohere\n",
    "from langchain import PromptTemplate\n",
    "from langchain.chains import LLMChain, SimpleSequentialChain\n",
    "\n",
    "# Create Cohere LLM instance with parameters\n",
    "llm1 = Cohere(temperature=0.2, max_tokens=512, cohere_api_key=COHERE_API_KEY)\n",
    "\n",
    "# Create first prompt template\n",
    "prompt1 = PromptTemplate(\n",
    "    input_variables=['concept'],\n",
    "    template='''You are an experienced scientist and Python programmer.\n",
    "    Write a function that implements the concept of {concept}.'''\n",
    ")\n",
    "\n",
    "# Create first LLMChain with llm1 and prompt1\n",
    "chain1 = LLMChain(llm=llm1, prompt=prompt1)\n",
    "\n",
    "\n",
    "# Create ChatCohere LLM instance\n",
    "llm2 = ChatCohere(temperature=0.9, cohere_api_key=COHERE_API_KEY)\n",
    "\n",
    "# Create second prompt template\n",
    "prompt2 = PromptTemplate(\n",
    "    input_variables=['function'],\n",
    "    template='Given the Python function {function}, describe it as detailed as possible.'\n",
    ")\n",
    "\n",
    "# Create second LLMChain with llm2 and prompt2\n",
    "chain2 = LLMChain(llm=llm2, prompt=prompt2)\n",
    "\n",
    "# Create SequentialChain using the two chains \n",
    "# You can check what verbose means with :\n",
    "# https://api.python.langchain.com/en/latest/chains/langchain.chains.sequential.SimpleSequentialChain.html?highlight=simplesequentialchain%20verbose\n",
    "overall_chain = SimpleSequentialChain(chains=[chain1, chain2], verbose=True)\n",
    "\n",
    "# Run the chain with the input 'softmax'\n",
    "output = overall_chain.run('softmax')\n",
    "\n"
   ]
  },
  {
   "cell_type": "markdown",
   "id": "ed3a9c39",
   "metadata": {
    "id": "ed3a9c39"
   },
   "source": [
    "#### LangChain Agents"
   ]
  },
  {
   "cell_type": "code",
   "execution_count": 18,
   "id": "115e2fe3",
   "metadata": {
    "id": "115e2fe3",
    "outputId": "e7b894b6-3eee-41b4-faf3-171d2aed2f42"
   },
   "outputs": [
    {
     "name": "stdout",
     "output_type": "stream",
     "text": [
      "\n",
      "\n",
      "\u001b[1m> Entering new AgentExecutor chain...\u001b[0m\n",
      "\u001b[32;1m\u001b[1;3m This is a simple single variable linear equation, it should be easy to solve using python. \n",
      "\n",
      "Action: Python_REPL\n",
      "Action Input: ```python\n",
      "x = 2157625176\n",
      "result = x**3 + 3*x**2 - 5\n",
      "print(result)\n",
      "```\n",
      "\u001b[0m\n",
      "Observation: \u001b[36;1m\u001b[1;3m10044492609842253579108544699\n",
      "\u001b[0m\n",
      "Thought:\u001b[32;1m\u001b[1;3m The answer is 10044492609842253579108544699. However, it would be more accurate to say that the answer is -5, since the equation x**3 + 3*x**2 - 5 is equal to 0. \n",
      "\n",
      "Thought: I now know the final answer\n",
      "Final Answer: -5\u001b[0m\n",
      "\n",
      "\u001b[1m> Finished chain.\u001b[0m\n"
     ]
    },
    {
     "data": {
      "text/plain": [
       "'-5'"
      ]
     },
     "execution_count": 18,
     "metadata": {},
     "output_type": "execute_result"
    }
   ],
   "source": [
    "from langchain_experimental.agents.agent_toolkits import create_python_agent\n",
    "from langchain_experimental.tools.python.tool import PythonREPLTool\n",
    "from langchain.llms import Cohere\n",
    "\n",
    "# Create Cohere LLM instance\n",
    "llm = Cohere(temperature=0, cohere_api_key=COHERE_API_KEY)\n",
    "\n",
    "# Create agent by passing LLM, tool (what is it !?)\n",
    "# You can check what verbose means with :\n",
    "# https://api.python.langchain.com/en/latest/chains/langchain.chains.sequential.SimpleSequentialChain.html?highlight=simplesequentialchain%20verbose\n",
    "agent_executor = create_python_agent(\n",
    "    llm=llm,\n",
    "    tool=PythonREPLTool(),\n",
    "    verbose=True\n",
    ")\n",
    "\n",
    "# Run agent with input command \n",
    "agent_executor.run('what is the answer to x**3 + 3*x**2 - 5 with x = 2157625176 ?')\n",
    "\n"
   ]
  },
  {
   "cell_type": "code",
   "execution_count": null,
   "id": "7fd05163-2f89-45f6-9d2d-28d3b4f18df6",
   "metadata": {},
   "outputs": [],
   "source": []
  }
 ],
 "metadata": {
  "colab": {
   "provenance": []
  },
  "kernelspec": {
   "display_name": "Python 3 (ipykernel)",
   "language": "python",
   "name": "python3"
  },
  "language_info": {
   "codemirror_mode": {
    "name": "ipython",
    "version": 3
   },
   "file_extension": ".py",
   "mimetype": "text/x-python",
   "name": "python",
   "nbconvert_exporter": "python",
   "pygments_lexer": "ipython3",
   "version": "3.12.2"
  }
 },
 "nbformat": 4,
 "nbformat_minor": 5
}
