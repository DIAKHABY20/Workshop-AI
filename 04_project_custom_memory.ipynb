{
 "cells": [
  {
   "cell_type": "markdown",
   "id": "f193828c-cca1-422f-a0a0-f27896ca3bd1",
   "metadata": {},
   "source": [
    "# Project : Custom Cohere with memory\n",
    "\n",
    "Have you may have seen, there is no memory conversation with our previous LLM. \n",
    "\n",
    "Chatbots are one of the central LLM use-cases. The core features of chatbots are that they can have long-running conversations and have access to information that users want to know about.\n",
    "\n",
    "Aside from basic prompting and LLMs, memory and retrieval are the core components of a chatbot. Memory allows a chatbot to remember past interactions, and retrieval provides a chatbot with up-to-date, domain-specific information.\n",
    "\n",
    "In this project we will focus on memory.\n",
    "\n",
    "You will find everything needed here : https://python.langchain.com/docs/modules/memory/ "
   ]
  },
  {
   "cell_type": "markdown",
   "id": "2c99f7ec-64c8-415c-a8e9-33c8042bb26d",
   "metadata": {},
   "source": [
    "### Complete pre-requisite"
   ]
  },
  {
   "cell_type": "markdown",
   "id": "7ff372e2-dbf4-476c-bee7-09d551d43883",
   "metadata": {},
   "source": [
    "#### Packages"
   ]
  },
  {
   "cell_type": "code",
   "execution_count": 2,
   "id": "60530a1d",
   "metadata": {},
   "outputs": [
    {
     "data": {
      "text/plain": [
       "True"
      ]
     },
     "execution_count": 2,
     "metadata": {},
     "output_type": "execute_result"
    }
   ],
   "source": [
    "import os\n",
    "from dotenv import load_dotenv, find_dotenv\n",
    "load_dotenv(find_dotenv(), override=True)\n",
    "\n",
    "from langchain.schema import SystemMessage\n",
    "from langchain.memory import (ConversationBufferMemory, \n",
    "                              ConversationSummaryMemory,\n",
    "                              ConversationBufferWindowMemory,\n",
    "                              ConversationKGMemory)\n",
    "from langchain.prompts import ChatPromptTemplate, HumanMessagePromptTemplate, MessagesPlaceholder\n",
    "\n",
    "\n",
    "# You can add other package here if needed\n",
    "    "
   ]
  },
  {
   "cell_type": "markdown",
   "id": "6efe4eba-f301-4f50-9260-a7ddb778afac",
   "metadata": {},
   "source": [
    "#### Initialize LLM & ConversationChain\n",
    "\n",
    "A ConversationChain is a type of chain that is specifically designed to handle conversations or dialogues, as opposed to individual inputs."
   ]
  },
  {
   "cell_type": "code",
   "execution_count": null,
   "id": "f36fd57c-ec76-49e6-95ae-368e836725ef",
   "metadata": {},
   "outputs": [],
   "source": [
    "from langchain.chat_models import Cohere\n",
    "from langchain.chains import ConversationChain\n",
    "\n",
    "# llm = ?\n",
    "\n",
    "# We will use a ConversationChain for our project\n",
    "conversation = ConversationChain(llm=llm)\n",
    "print(conversation.prompt.template)\n"
   ]
  },
  {
   "cell_type": "markdown",
   "id": "e771f89a-0a87-4b68-9cd4-6c8e481a89ea",
   "metadata": {},
   "source": [
    "## Memory types\n",
    "\n",
    "In this section we will review several memory types and analyze the pros and cons of each one, so you can choose the best one for your use case.\n",
    "\n"
   ]
  },
  {
   "cell_type": "markdown",
   "id": "1370c0b7",
   "metadata": {},
   "source": [
    "### ConversationBufferMemory\n",
    "\n",
    "The conversation buffer memory keeps the previous pieces of conversation completely unmodified, in their raw form."
   ]
  },
  {
   "cell_type": "markdown",
   "id": "3a537a81-5550-4798-af4d-ac122ca26e36",
   "metadata": {},
   "source": [
    "### ConversationSummaryMemory\n",
    "\n",
    "The conversation summary memory creates a summary of the conversation over time. "
   ]
  },
  {
   "cell_type": "code",
   "execution_count": 8,
   "id": "c0a3e2d8",
   "metadata": {},
   "outputs": [
    {
     "name": "stdout",
     "output_type": "stream",
     "text": [
      "Your prompt: Paris is ...\n",
      "the capital city of France and is known for its rich history, art, culture, and famous landmarks such as the Eiffel Tower, Louvre Museum, Notre-Dame Cathedral, and the Champs-Élysées. It is often referred to as the \"City of Love\" and is a popular tourist destination.\n",
      "--------------------------------------------------\n",
      "Your prompt: Okay, what about its area?\n",
      "Paris has an area of approximately 105 square kilometers (41 square miles). It is situated on the Seine River in the north-central part of France. The city is divided into 20 administrative districts, known as arrondissements, which spiral outwards from the city center. Each arrondissement has its own unique character and charm, contributing to the diverse and vibrant nature of Paris as a whole.\n",
      "--------------------------------------------------\n",
      "Your prompt: quit\n",
      "Goodbye!\n"
     ]
    }
   ],
   "source": [
    "\n",
    "# Initialize a ConversationChain with a memory in it\n",
    "\n",
    "# converstation = ConversationChain(....)\n",
    "\n",
    "    "
   ]
  },
  {
   "cell_type": "markdown",
   "id": "14c797b8-9db8-4f1c-8d3d-bf856565b68b",
   "metadata": {},
   "source": [
    "#### verification"
   ]
  },
  {
   "cell_type": "code",
   "execution_count": 3,
   "id": "77638288-af34-4103-9f09-7ca0c7491dd3",
   "metadata": {},
   "outputs": [
    {
     "ename": "NameError",
     "evalue": "name 'conversation' is not defined",
     "output_type": "error",
     "traceback": [
      "\u001b[0;31m---------------------------------------------------------------------------\u001b[0m",
      "\u001b[0;31mNameError\u001b[0m                                 Traceback (most recent call last)",
      "Cell \u001b[0;32mIn[3], line 1\u001b[0m\n\u001b[0;32m----> 1\u001b[0m \u001b[43mconversation\u001b[49m(\u001b[38;5;124m\"\u001b[39m\u001b[38;5;124mWhat is the capital of France ?\u001b[39m\u001b[38;5;124m\"\u001b[39m)\n\u001b[1;32m      3\u001b[0m conversation(\u001b[38;5;124m\"\u001b[39m\u001b[38;5;124mWhat is the capital of Spanish ?\u001b[39m\u001b[38;5;124m\"\u001b[39m)\n\u001b[1;32m      5\u001b[0m conversation(\u001b[38;5;124m\"\u001b[39m\u001b[38;5;124mWhat is the capital of Angola ?\u001b[39m\u001b[38;5;124m\"\u001b[39m)\n",
      "\u001b[0;31mNameError\u001b[0m: name 'conversation' is not defined"
     ]
    }
   ],
   "source": [
    "conversation(\"What is the capital of France ?\")\n",
    "\n",
    "conversation(\"What is the capital of Spanish ?\")\n",
    "\n",
    "conversation(\"What is the capital of Angola ?\")\n",
    "\n",
    "# We should be able to get the whole conversation inside the memory\n",
    "print(conversation.memory.buffer)"
   ]
  },
  {
   "cell_type": "markdown",
   "id": "6c59f2c5-c7d0-4ee1-b345-d73f28678e5e",
   "metadata": {},
   "source": [
    "#### From your observations - Gives the pros and cons of this memory "
   ]
  },
  {
   "cell_type": "markdown",
   "id": "5a5098d8-41ad-4333-a0cf-e45e727d9d71",
   "metadata": {},
   "source": [
    "##### Pros\n",
    "\n",
    "-\n",
    "-\n",
    "\n"
   ]
  },
  {
   "cell_type": "markdown",
   "id": "c8319731-dbe9-49e9-91df-04beb9e71d65",
   "metadata": {},
   "source": [
    "##### Cons\n",
    "\n",
    "-\n",
    "-\n"
   ]
  }
 ],
 "metadata": {
  "kernelspec": {
   "display_name": "Python 3 (ipykernel)",
   "language": "python",
   "name": "python3"
  },
  "language_info": {
   "codemirror_mode": {
    "name": "ipython",
    "version": 3
   },
   "file_extension": ".py",
   "mimetype": "text/x-python",
   "name": "python",
   "nbconvert_exporter": "python",
   "pygments_lexer": "ipython3",
   "version": "3.11.6"
  }
 },
 "nbformat": 4,
 "nbformat_minor": 5
}
