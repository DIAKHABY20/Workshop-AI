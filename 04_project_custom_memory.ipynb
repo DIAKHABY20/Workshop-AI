{
 "cells": [
  {
   "cell_type": "markdown",
   "id": "f193828c-cca1-422f-a0a0-f27896ca3bd1",
   "metadata": {},
   "source": [
    "# Project : Custom Cohere with memory\n",
    "\n",
    "Have you may have seen, there is no memory conversation with our previous LLM. \n",
    "\n",
    "Chatbots are one of the central LLM use-cases. The core features of chatbots are that they can have long-running conversations and have access to information that users want to know about.\n",
    "\n",
    "Aside from basic prompting and LLMs, memory and retrieval are the core components of a chatbot. Memory allows a chatbot to remember past interactions, and retrieval provides a chatbot with up-to-date, domain-specific information.\n",
    "\n",
    "In this project we will focus on memory.\n",
    "\n",
    "You will find everything needed here : https://python.langchain.com/docs/modules/memory/ "
   ]
  },
  {
   "cell_type": "markdown",
   "id": "2c99f7ec-64c8-415c-a8e9-33c8042bb26d",
   "metadata": {},
   "source": [
    "### Complete pre-requisite"
   ]
  },
  {
   "cell_type": "markdown",
   "id": "7ff372e2-dbf4-476c-bee7-09d551d43883",
   "metadata": {},
   "source": [
    "#### Packages"
   ]
  },
  {
   "cell_type": "code",
   "execution_count": 1,
   "id": "60530a1d",
   "metadata": {},
   "outputs": [],
   "source": [
    "import os\n",
    "from dotenv import load_dotenv, find_dotenv\n",
    "load_dotenv(find_dotenv(), override=True)\n",
    "\n",
    "from langchain.schema import SystemMessage\n",
    "from langchain.memory import (ConversationBufferMemory, \n",
    "                              ConversationSummaryMemory,\n",
    "                              ConversationBufferWindowMemory,\n",
    "                              ConversationKGMemory)\n",
    "from langchain.prompts import ChatPromptTemplate, HumanMessagePromptTemplate, MessagesPlaceholder\n",
    "\n",
    "\n",
    "# You can add other package here if needed\n",
    "    "
   ]
  },
  {
   "cell_type": "markdown",
   "id": "6efe4eba-f301-4f50-9260-a7ddb778afac",
   "metadata": {},
   "source": [
    "#### Initialize LLM & ConversationChain\n",
    "\n",
    "A ConversationChain is a type of chain that is specifically designed to handle conversations or dialogues, as opposed to individual inputs."
   ]
  },
  {
   "cell_type": "code",
   "execution_count": 2,
   "id": "f36fd57c-ec76-49e6-95ae-368e836725ef",
   "metadata": {},
   "outputs": [
    {
     "name": "stdout",
     "output_type": "stream",
     "text": [
      "The following is a friendly conversation between a human and an AI. The AI is talkative and provides lots of specific details from its context. If the AI does not know the answer to a question, it truthfully says it does not know.\n",
      "\n",
      "Current conversation:\n",
      "{history}\n",
      "Human: {input}\n",
      "AI:\n"
     ]
    }
   ],
   "source": [
    "from langchain.llms import Cohere\n",
    "from langchain.chains import ConversationChain\n",
    "\n",
    "\n",
    "# llm = ?\n",
    "\n",
    "llm = Cohere(temperature=0.75, cohere_api_key=os.environ.get('COHERE_API_KEY'))\n",
    "\n",
    "# We will use a ConversationChain for our project\n",
    "conversation = ConversationChain(llm=llm)\n",
    "print(conversation.prompt.template)\n"
   ]
  },
  {
   "cell_type": "markdown",
   "id": "e771f89a-0a87-4b68-9cd4-6c8e481a89ea",
   "metadata": {},
   "source": [
    "## Memory types\n",
    "\n",
    "In this section we will review several memory types and analyze the pros and cons of each one, so you can choose the best one for your use case.\n",
    "\n"
   ]
  },
  {
   "cell_type": "markdown",
   "id": "1370c0b7",
   "metadata": {},
   "source": [
    "### ConversationBufferMemory\n",
    "\n",
    "The conversation buffer memory keeps the previous pieces of conversation completely unmodified, in their raw form."
   ]
  },
  {
   "cell_type": "code",
   "execution_count": 3,
   "id": "c0a3e2d8",
   "metadata": {},
   "outputs": [],
   "source": [
    "\n",
    "# Initialize a ConversationChain with a memory in it\n",
    "\n",
    "#converstation_buffer_memory = ?\n",
    "\n",
    "from langchain.memory import ConversationBufferMemory\n",
    "from langchain.chains import ConversationChain\n",
    "from langchain.llms import Cohere\n",
    "\n",
    "conversation_buffer_memory = ConversationBufferMemory()\n",
    "\n",
    "conversation_with_buffer_memory = ConversationChain(llm=llm,memory=conversation_buffer_memory)\n",
    "\n",
    "    "
   ]
  },
  {
   "cell_type": "markdown",
   "id": "14c797b8-9db8-4f1c-8d3d-bf856565b68b",
   "metadata": {},
   "source": [
    "#### verification"
   ]
  },
  {
   "cell_type": "code",
   "execution_count": 13,
   "id": "77638288-af34-4103-9f09-7ca0c7491dd3",
   "metadata": {},
   "outputs": [
    {
     "name": "stdout",
     "output_type": "stream",
     "text": [
      "Human: What is the capital of France ?\n",
      "AI:  The capital of France is Paris. It is located in the north-central part of the country, on the River Seine, and is one of the most populous and well-known cities in the world.\n",
      "\n",
      "Paris is divided into 20 arrondissements (administrative districts) formed in a spiral pattern around the Louvre Museum and the Opera district. Each arrondissement has its own unique character and attractions, from the vibrant nightlife and cobblestone streets of the Latin Quarter to the upscale shopping avenues and restaurants of the Right Bank. \n",
      "\n",
      "Home to iconic landmarks, Paris has a rich historical and cultural heritage. It is renowned for the Eiffel Tower, Notre-Dame Cathedral, the Louvre Museum, the Palace of Versailles, and the Arc de Triomphe, to name just a few. These iconic sights attract millions of tourists every year. \n",
      "\n",
      "Beyond these landmarks, Paris has a vibrant atmosphere with something for everyone. It is known for its fashion scene, art museums, haute cuisine, charming sidewalk cafes, and atmospheric neighborhoods. \n",
      "Human: What is the capital of Spain ?\n",
      "AI:  The capital of Spain is Madrid. It is the largest city in the country and a major political, economic, and cultural center. Madrid is located in the central plateau of Spain, making it geographically halfway between Barcelona and Madrid. It is situated on the banks of the Manzanares River, though the importance of this waterbody is mostly aesthetic, as Madrid is situated in a relatively dry region.\n",
      "\n",
      "Madrid boasts a rich history and cultural attractions. It is known for its grand plazas, such as Plaza Mayor, a popular gathering spot for locals and tourists alike. Madrid also has world-class art museums, including the Prado Museum, which houses one of the finest collections of European art, including works by Spanish masters like Velázquez and Goya. The nearby Reina Sofía Museum is also an iconic landmark, showcasing works by Picasso, Walkie, and more. \n",
      "\n",
      "Like most of Spain, Madrid boasts a vibrant nightlife scene. It is renowned for its lively atmosphere with many restaurants, tapas bars, and nightclubs that remain open until late into the night. \n",
      "Human: What is the capital of Angola ?\n",
      "AI:  Unfortunately, I don't know the answer to that question. Would you like me to provide you with some fun facts about Madrid that you can share with your friends? \n",
      "Human: What is the capital of France ?\n",
      "AI:  The capital of France is Paris. It is located in the north-central part of the country, on the River Seine, and is divided into 20 arrondissements (administrative districts). Paris is known for its iconic landmarks, such as the Eiffel Tower, Notre-Dame Cathedral, the Louvre Museum, the Palace of Versailles, and the Arc de Triomphe. These attractions draw millions of tourists annually. Paris is also renowned for its fashion scene, art museums, haute cuisine, charming sidewalk cafes, and atmospheric neighborhoods. \n",
      "\n",
      "Would you like more information on the history of Paris? \n",
      "Human: What is the capital of Spain ?\n",
      "AI:  The capital of Spain is Madrid. It is the largest city in the country and is located in the central plateau. Madrid boasts a rich history and cultural attractions, including Plaza Mayor and the Prado Museum. It is known for its vibrant atmosphere with restaurants, tapas bars, and nightclubs, making it a hub for entertainment. \n",
      "\n",
      "Would you like me to provide more information on Madrid? \n",
      "Human: What is the capital of Angola ?\n",
      "AI:  Unfortunately, I don't know the answer to that question. Would you be interested in some information on the capitals of Europe, or even fun facts about Madrid? \n",
      "Human: What is the capital of France ?\n",
      "AI:  The capital of France is Paris. Paris is one of the most well-known cities in the world, and is divided into 20 arrondissements, or administrative districts. These districts spiral out from the Louvre Museum and the Opera district. Each district has its own distinct character and attractions, from upscale shopping and restaurants to vibrant nightlife. \n",
      "\n",
      "Paris is home to many iconic landmarks, including the Eiffel Tower, Notre-Dame Cathedral, the Louvre Museum, the Palace of Versailles, and the Arc de Triomphe, attracting millions of tourists each year. \n",
      "\n",
      "Beyond these landmarks, Paris has a vibrant atmosphere with something for everyone. It is known for its fashion scene, art museums, cuisine, charming cafes, and unique neighborhoods. \n",
      "Human: What was my first question ?\n",
      "AI:  You asked, \"What is the capital of France?\" And I provided you with a thorough answer regarding the history of Paris and some of its attractions. Was there anything specific you would like me to assist you with today? If you would like, I can provide answers related to the capital of Angola, or provide more insights into Paris if you like. \n",
      "Human: What is the capital of Angola ?\n",
      "AI:  Unfortunately, I am still unable to provide you with information on the capital of Angola. It is possible that I do not know certain answers, as my database is only as up-to-date as the information is provided. However, I can still provide answers on a variety of other topics if you'd like! \n",
      "Human: What is the capital of France ?\n",
      "AI:  The capital of France is Paris. It is a major global city, attracting millions of tourists each year due to its iconic landmarks, such as the Eiffel Tower, Notre-Dame Cathedral, and the Louvre Museum. Paris has a reputation for fashion, art museums, cuisine, and a vibrant atmosphere. \n",
      "\n",
      "Would you like more information about Paris? \n",
      "Human: What was my first question ?\n",
      "AI:  You asked, \"What is the capital of France?\" You first asked this question before commenting that you had previously asked about the capital of Angola. \n",
      "\n",
      "I then provided you with a detailed answer regarding the capital of France, Paris. Paris is a cultural hotspot renowned for its attractions, fashion, and food. \n",
      "\n",
      "Do you have any other questions you'd like me to answer? \n",
      "Human: What is the capital of Tunisia ?\n",
      "AI:  The capital of Tunisia is Tunis. Tunis is a large city serving as the country's economic, cultural, and political hub. It is primarily located on a large Mediterranean Sea gulf known as the Gulf of Tunis, which is significantly smaller than the actual Mediterranean Sea itself. \n",
      "\n",
      "Tunis is renowned for its lively atmosphere, rich history, and cultural attractions. The city has many notable landmarks, including the ancient Medina quarter, which dates back to the city's founding in the 7th century. Additionally, Tunis is known for its vibrant nightlife, especially along the waterfront, where there are many restaurants, cafes, and nightclubs. \n",
      "\n",
      "It is a major tourist destination, hosting millions of tourists every year who flock to its historic landmarks and beautiful Mediterranean beaches. \n"
     ]
    }
   ],
   "source": [
    "conversation_with_buffer_memory.invoke(\"What is the capital of France ?\")\n",
    "\n",
    "conversation_with_buffer_memory.invoke(\"What was my first question ?\")\n",
    "\n",
    "conversation_with_buffer_memory.invoke(\"What is the capital of Tunisia ?\")\n",
    "\n",
    "# We should be able to get the whole conversation inside the memory\n",
    "print(conversation_with_buffer_memory.memory.buffer)"
   ]
  },
  {
   "cell_type": "markdown",
   "id": "6c59f2c5-c7d0-4ee1-b345-d73f28678e5e",
   "metadata": {},
   "source": [
    "#### From your observations - Gives the pros and cons of this memory \n",
    "\n",
    "##### Pros\n",
    "\n",
    "- Allow the AI to remember previous questions\n",
    "- Simple to implement and re use\n",
    "\n",
    "##### Cons\n",
    "\n",
    "- Storing the entire conversation can be a problem because it consumes tokens which can become not free at a fixed number used\n",
    "- Susceptible to irrelevant information\n",
    "\n"
   ]
  },
  {
   "cell_type": "markdown",
   "id": "3a537a81-5550-4798-af4d-ac122ca26e36",
   "metadata": {},
   "source": [
    "### ConversationSummaryMemory\n",
    "\n",
    "The conversation summary memory creates a summary of the conversation over time. "
   ]
  },
  {
   "cell_type": "code",
   "execution_count": 4,
   "id": "fb64c989-580d-4880-acef-924e57184ac2",
   "metadata": {},
   "outputs": [],
   "source": [
    "from langchain.memory import ConversationSummaryMemory\n",
    "\n",
    "\n",
    "# Initialize ConversationSummaryMemory with your LLM\n",
    "conversation_summary_memory = ConversationSummaryMemory(llm=llm)\n",
    "\n",
    "# Initialize ConversationChain with the memory\n",
    "conversation_with_summary_memory = ConversationChain(\n",
    "    llm=llm, memory=conversation_summary_memory\n",
    ")\n"
   ]
  },
  {
   "cell_type": "markdown",
   "id": "a1808ae3-6388-460f-b431-55ed46833d3d",
   "metadata": {},
   "source": [
    "#### Verification"
   ]
  },
  {
   "cell_type": "code",
   "execution_count": 6,
   "id": "df8f39d6-8638-424e-813d-bde910f3f910",
   "metadata": {},
   "outputs": [
    {
     "data": {
      "text/plain": [
       "{'input': 'Gives me the historical chronology of France. I want as much dates and events as possibles.',\n",
       " 'history': '',\n",
       " 'response': ' Sure, here is an expanded timeline of important dates and events in the history of France:\\n\\n1. 57 BC - Julius Caesar conducts the first invasion of Gaul (modern-day France) and establishes Roman control.\\n\\n2. 4th Century AD - The capital city of the Roman Empire is moved to Mediolanum (modern-day Milan) causing the decline of the city of Rome. This, along with the arrival of Germanic tribes, signals the fall of the Western Roman Empire. \\n\\n3. 441 - The Kingdom of the Franks is established by King Clovis I. He unites several Germanic tribes and converts to Christianity, marking an important step in the Catholicization of France.\\n\\n4. 732 - The Battle of Tours takes place between Charles \"The Hammer\" Martel\\'s Frankish forces and the Umayyad Caliphate. This victory for the Franks marked the end of Muslim expansion into Western Europe.\\n\\n5. 843 - The Treaty of Verdun divides the Carolingian Empire into three parts, with the eldest son Charles receiving the French portion as the Kingdom of France. This is considered the foundation of the French state and the Capetian dynasty.\\n\\n6. Late 9th Century - The Vikings (or Norsemen)'}"
      ]
     },
     "execution_count": 6,
     "metadata": {},
     "output_type": "execute_result"
    }
   ],
   "source": [
    "conversation_with_summary_memory(\"Gives me the historical chronology of France. I want as much dates and events as possibles.\")"
   ]
  },
  {
   "cell_type": "code",
   "execution_count": 7,
   "id": "4c61ddb8-4b51-42a2-a5a8-d754245fce8d",
   "metadata": {},
   "outputs": [
    {
     "data": {
      "text/plain": [
       "{'input': 'Gives me the historical chronology of Spain. I want as much dates and events as possibles.',\n",
       " 'history': ' The human asks the AI to provide a detailed chronological timeline of important dates and events in the history of France. The AI responds by providing a list of dates and events, starting from the Roman conquest of Gaul up to the Viking settlements in the late 9th century. ',\n",
       " 'response': \" Ah, the history of Spain is a fascinating one, filled with pivotal events that have shaped the country into what it is today. Let's begin our exploration of key dates and events in Spanish history, starting from the early days of the region.\\n\\n1. The Iberian Peninsula: Before the arrival of the Romans, the Iberian Peninsula, which today constitutes Spain, was home to various tribes and cultures, including the Iberians, Celts, and Basques. These tribes often clashed with one another, but they were largely unified in their resistance to outside conquests. \\n\\n2. The Roman Conquest and Influence: The Roman Empire began to infiltrate the Iberian Peninsula around 200 BCE, starting with the region of Catalonia in the east. Over the following centuries, Rome gradually expanded its control over the peninsula, with the city of Tarragona becoming a significant Roman settlement. The Romans brought their culture, infrastructure, and language, which had a lasting impact on Spain even after their departure.\\n\\n3. The Visigoths: With the decline of the Roman Empire, the Iberian Peninsula was invaded in the 5th century CE by the Visigoths, a Germanic people who succeeded in conquering most of Spain. Their rule was characterized by a degree of cultural assimilation, with the Vis\"}"
      ]
     },
     "execution_count": 7,
     "metadata": {},
     "output_type": "execute_result"
    }
   ],
   "source": [
    "conversation_with_summary_memory(\"Gives me the historical chronology of Spain. I want as much dates and events as possibles.\")"
   ]
  },
  {
   "cell_type": "code",
   "execution_count": 8,
   "id": "1f3cc4ef-07f8-418b-9534-dbe1df419f54",
   "metadata": {},
   "outputs": [
    {
     "name": "stderr",
     "output_type": "stream",
     "text": [
      "Retrying langchain_community.llms.cohere.completion_with_retry.<locals>._completion_with_retry in 4.0 seconds as it raised CohereAPIError: You are using a Trial key, which is limited to 5 API calls / minute. You can continue to use the Trial key for free or upgrade to a Production key with higher rate limits at 'https://dashboard.cohere.com/api-keys'. Contact us on 'https://discord.gg/XW44jPfYJu' or email us at support@cohere.com with any questions.\n"
     ]
    },
    {
     "data": {
      "text/plain": [
       "{'input': 'Gives me the historical chronology of Germany. I want as much dates and events as possibles.',\n",
       " 'history': ' The human asks the AI to provide a detailed chronological timeline of important dates and events in the history of Spain. The AI begins to provide this information, starting from the Roman Conquest of the Iberian Penisula and the Viking Settlements in the late 9th century and then transitioning to the history of Spain specifically. \\n\\nThe AI outlines the indigenous cultures of the Iberian Penisula, including the Iberians, Celts, and Basques. Then it discusses the Roman Conquest and Influence, including the cultural, infrastructure, and language impacts of Roman rule. This is followed by discussing the Visigoths, who invaded in the 5th century CE. ',\n",
       " 'response': \" Okay, here is a brief timeline of important dates and events in German history:\\n\\nPre-Unification:\\n\\n- Late 9th century: Vikings establish the Danelaw in northern Germany and Denmark, which becomes part of the Kingdom of Scandinavia.\\n\\n- c. 1000 CE: Formation of the Holy Roman Empire, which will last until 1806/7. It was a collection of Germanic kingdoms and states under the leadership of the Holy Roman Emperor.\\n\\n- c. 1250: Rise of the Hanseatic League, a trading network across northern Europe that dominated the region's economy.\\n\\n- c. 1500: The Age of Exploration. German explorers like Martin Behaim (who created the earliest known globe to include the New World) and Johannes Gutenberg (inventor of the printing press) push the boundaries of European knowledge and innovation.\\n\\nUnification and Beyond:\\n\\n- January 18, 1871: Founding of the German Empire, the first unified German state, with Wilhelm I as emperor. The previous year, the states of Germany had been united politically in the Confederation.\\n\\n- WWI: July 1914 - November 11, 1918\\nGermany, along with the Austro-Hungarian Empire, fought against the Allies (including Britain, France,\"}"
      ]
     },
     "execution_count": 8,
     "metadata": {},
     "output_type": "execute_result"
    }
   ],
   "source": [
    "conversation_with_summary_memory(\"Gives me the historical chronology of Germany. I want as much dates and events as possibles.\")"
   ]
  },
  {
   "cell_type": "code",
   "execution_count": 9,
   "id": "5161af96-c698-4243-8280-f276878abe47",
   "metadata": {},
   "outputs": [
    {
     "name": "stdout",
     "output_type": "stream",
     "text": [
      " The human asks the AI to provide a detailed chronological timeline of important dates and events in the history of Germany. The AI provides a brief timeline starting from the Roman Conquest of the Iberian Penisula and the Viking Settlements in the late 9th century and then transitioning to specifically German history. They outline the culture, infrastructure, and language impacts of Roman rule and the subsequent Visigoth invasion in the 5th century CE. The AI then provides a summary of important events in German history since pre-unification, including the formation of the Holy Roman Empire, the Hanseatic League, the Age of Exploration, and the founding of the German Empire. \n"
     ]
    }
   ],
   "source": [
    "# We should be able to get the whole conversation inside the memory\n",
    "print(conversation_with_summary_memory.memory.buffer)"
   ]
  },
  {
   "cell_type": "markdown",
   "id": "44b863bb-4d86-4e4f-9ebb-9178f0aa5017",
   "metadata": {},
   "source": [
    "#### From your observations - Gives the pros and cons of this memory \n",
    "\n",
    "##### Pros\n",
    "\n",
    "- Context awareness, capturing the user intents and the AI responses\n",
    "- By summarizing the conversation the memory help the AI to focuse on the main topic\n",
    "\n",
    "##### Cons\n",
    "\n",
    "- The history part can be too long \n",
    "- And it tells only about the last question not the one before\n",
    "\n"
   ]
  },
  {
   "cell_type": "markdown",
   "id": "e2877c34-de6b-4d7a-9e69-89092422c9e3",
   "metadata": {},
   "source": [
    "### ConversationSummaryBufferMemory\n",
    "\n",
    "The conversation summary buffer memory keeps a buffer of recent interactions in memory, but rather than just completely flushing old interactions, it compiles them into a summary and uses both."
   ]
  },
  {
   "cell_type": "code",
   "execution_count": 10,
   "id": "6c71c89e-7fcb-4034-aa81-5cd21a7dae0b",
   "metadata": {},
   "outputs": [],
   "source": [
    "\n",
    "# Initialize a ConversationChain with a memory in it\n",
    "\n",
    "# converstation_summary_buffer_memory = ConversationChain(....)\n",
    "\n",
    "from langchain.memory import ConversationSummaryBufferMemory\n",
    "\n",
    "# Initialize ConversationSummaryBufferMemory\n",
    "conversation_summary_buffer_memory = ConversationSummaryBufferMemory(llm=llm)\n",
    "\n",
    "# Initialize ConversationChain with the memory\n",
    "conversation_with_summary_buffer_memory = ConversationChain(\n",
    "    llm=llm, memory=conversation_summary_buffer_memory\n",
    ")\n",
    "\n",
    "\n",
    "    "
   ]
  },
  {
   "cell_type": "markdown",
   "id": "5fc21042-4c73-4ce1-b797-d8fff0902b71",
   "metadata": {},
   "source": [
    "#### Verification"
   ]
  },
  {
   "cell_type": "code",
   "execution_count": 11,
   "id": "85e3342e-2787-4f79-9103-9399b2ede8af",
   "metadata": {},
   "outputs": [
    {
     "data": {
      "text/plain": [
       "{'input': 'Gives me the historical chronology of France. I want as much dates and events as possibles.',\n",
       " 'history': '',\n",
       " 'response': ' Sure, here is an expanded version of the chronological timeline of important dates and events in the history of France, presented in a list format for clarity:\\n\\n1. **c. 4500 BCE** - Neanderthals and modern humans coexist in present-day France, with Neanderthals likely retreating or dying out around this time.\\n\\n2. **c. 4000 BCE** - The onset of the Neolithic Revolution sees the introduction of agriculture and the creation of the first permanent settlements in the country.\\n\\n3. **1200 BCE** - Celtic tribes, notably the Gauls, arrive and settle in various regions of what will become France. They establish a Celtic culture that influences language, religion, and societal structures.\\n\\n4. **c. 550 BCE** - The Celtic Hallstatt culture flourishes in Gaul, marking technological advancements, expanded trade networks, and stylized metalwork.\\n\\n5. **c. 390 BCE** - The Gallic Wars see the expansion of the Roman Empire into parts of present-day France. They defeat the Gallic coalition led by Vercingetorix at the Battle of Alesia and establish the province of Gallia.\\n\\n6. **c. 50 BCE** - Julius Caesar establishes the city'}"
      ]
     },
     "execution_count": 11,
     "metadata": {},
     "output_type": "execute_result"
    }
   ],
   "source": [
    "conversation_with_summary_buffer_memory(\"Gives me the historical chronology of France. I want as much dates and events as possibles.\")"
   ]
  },
  {
   "cell_type": "code",
   "execution_count": 12,
   "id": "ca0068d0-b5af-40df-aa5c-aa592ec1c832",
   "metadata": {},
   "outputs": [
    {
     "data": {
      "text/plain": [
       "{'input': 'Gives me the historical chronology of Spain. I want as much dates and events as possibles.',\n",
       " 'history': 'Human: Gives me the historical chronology of France. I want as much dates and events as possibles.\\nAI:  Sure, here is an expanded version of the chronological timeline of important dates and events in the history of France, presented in a list format for clarity:\\n\\n1. **c. 4500 BCE** - Neanderthals and modern humans coexist in present-day France, with Neanderthals likely retreating or dying out around this time.\\n\\n2. **c. 4000 BCE** - The onset of the Neolithic Revolution sees the introduction of agriculture and the creation of the first permanent settlements in the country.\\n\\n3. **1200 BCE** - Celtic tribes, notably the Gauls, arrive and settle in various regions of what will become France. They establish a Celtic culture that influences language, religion, and societal structures.\\n\\n4. **c. 550 BCE** - The Celtic Hallstatt culture flourishes in Gaul, marking technological advancements, expanded trade networks, and stylized metalwork.\\n\\n5. **c. 390 BCE** - The Gallic Wars see the expansion of the Roman Empire into parts of present-day France. They defeat the Gallic coalition led by Vercingetorix at the Battle of Alesia and establish the province of Gallia.\\n\\n6. **c. 50 BCE** - Julius Caesar establishes the city',\n",
       " 'response': ' Sure, here is an expanded version of the chronological timeline of important dates and events in the history of Spain, presented in a list format for clarity:\\n\\n1. **c. 3500 BCE** - The Balearic Islands, among the modern-day Spanish territories, have evidence of Neolithic settlements.\\n\\n2. **c. 2100 BCE** - The Canary Islands, another Spanish territory, begin to be inhabited by Berber peoples from North Africa. \\n\\n3. **c. 1400 BCE** - The Tartessian civilization flourishes on the Iberian Peninsula, showcasing advanced metalworking, commerce, and cultural fusion.\\n\\n4. **c. 1200 BCE** - Celtic tribes, including the Celtiberians, arrive and settle in parts of the Iberian Peninsula, influencing the culture, language, and society.\\n\\n5. **c. 800 BCE** - The Phoenicians establish trading colonies in Iberian Peninsula cities like Cádiz, introducing the Iberian Peninsula to the Eastern World. \\n\\n6. **c. 201 BCE** - The Second Punic War sees the Carthaginian general Hannibal cross the Pyrenees into Italy, resulting in the collapse of Carthage at the hands of the Romans. \\n\\n7. **c. 0 BCE** - The Roman Empire'}"
      ]
     },
     "execution_count": 12,
     "metadata": {},
     "output_type": "execute_result"
    }
   ],
   "source": [
    "conversation_with_summary_buffer_memory(\"Gives me the historical chronology of Spain. I want as much dates and events as possibles.\")"
   ]
  },
  {
   "cell_type": "code",
   "execution_count": 13,
   "id": "92be5616-af24-4878-afc0-c7955239e8ae",
   "metadata": {},
   "outputs": [
    {
     "data": {
      "text/plain": [
       "{'input': 'Gives me the historical chronology of Germany. I want as much dates and events as possibles.',\n",
       " 'history': 'Human: Gives me the historical chronology of France. I want as much dates and events as possibles.\\nAI:  Sure, here is an expanded version of the chronological timeline of important dates and events in the history of France, presented in a list format for clarity:\\n\\n1. **c. 4500 BCE** - Neanderthals and modern humans coexist in present-day France, with Neanderthals likely retreating or dying out around this time.\\n\\n2. **c. 4000 BCE** - The onset of the Neolithic Revolution sees the introduction of agriculture and the creation of the first permanent settlements in the country.\\n\\n3. **1200 BCE** - Celtic tribes, notably the Gauls, arrive and settle in various regions of what will become France. They establish a Celtic culture that influences language, religion, and societal structures.\\n\\n4. **c. 550 BCE** - The Celtic Hallstatt culture flourishes in Gaul, marking technological advancements, expanded trade networks, and stylized metalwork.\\n\\n5. **c. 390 BCE** - The Gallic Wars see the expansion of the Roman Empire into parts of present-day France. They defeat the Gallic coalition led by Vercingetorix at the Battle of Alesia and establish the province of Gallia.\\n\\n6. **c. 50 BCE** - Julius Caesar establishes the city\\nHuman: Gives me the historical chronology of Spain. I want as much dates and events as possibles.\\nAI:  Sure, here is an expanded version of the chronological timeline of important dates and events in the history of Spain, presented in a list format for clarity:\\n\\n1. **c. 3500 BCE** - The Balearic Islands, among the modern-day Spanish territories, have evidence of Neolithic settlements.\\n\\n2. **c. 2100 BCE** - The Canary Islands, another Spanish territory, begin to be inhabited by Berber peoples from North Africa. \\n\\n3. **c. 1400 BCE** - The Tartessian civilization flourishes on the Iberian Peninsula, showcasing advanced metalworking, commerce, and cultural fusion.\\n\\n4. **c. 1200 BCE** - Celtic tribes, including the Celtiberians, arrive and settle in parts of the Iberian Peninsula, influencing the culture, language, and society.\\n\\n5. **c. 800 BCE** - The Phoenicians establish trading colonies in Iberian Peninsula cities like Cádiz, introducing the Iberian Peninsula to the Eastern World. \\n\\n6. **c. 201 BCE** - The Second Punic War sees the Carthaginian general Hannibal cross the Pyrenees into Italy, resulting in the collapse of Carthage at the hands of the Romans. \\n\\n7. **c. 0 BCE** - The Roman Empire',\n",
       " 'response': \" Here is an expanded version of the chronological timeline of important dates and events in the history of Germany, presented in a list format for clarity:\\n\\n1. **c. 10,000 BCE** - The introduction of agriculture and the beginning of permanent settlements in present-day Germany. The Maglemosian culture emerges from the hunter-gatherer societies inhabiting the area.\\n\\n2. **c. 4500 BCE** - The Upper Palaeolithic period sees the earliest evidence of modern humans in what will become Germany. The Mesolithic period that follows is characterized by hunters and fishermen living along rivers.\\n\\n3. **c. 3500 BCE** - The Neolithic Revolution spreads to Germany, seen in the establishment of the Linear Pottery culture. This signifies the transition to agriculture and the creation of new crafts.\\n\\n4. **c. 1200 BCE** - The Corded Ware culture, linked to the Indo-European Corded Ware people, influences the current day German territory and contributes to the Germanic languages and traditions.\\n\\n5. **c. 800 BCE** - Numerous Germanic tribes, including the Cimbri, Teutons, and Saxons, thrive in present-day Germany. Their impact is evident in the country's language, culture, and genetic\"}"
      ]
     },
     "execution_count": 13,
     "metadata": {},
     "output_type": "execute_result"
    }
   ],
   "source": [
    "conversation_with_summary_buffer_memory(\"Gives me the historical chronology of Germany. I want as much dates and events as possibles.\")"
   ]
  },
  {
   "cell_type": "code",
   "execution_count": 14,
   "id": "be0401d6-7246-4437-9d09-54e33e120329",
   "metadata": {},
   "outputs": [
    {
     "name": "stdout",
     "output_type": "stream",
     "text": [
      "[HumanMessage(content='Gives me the historical chronology of France. I want as much dates and events as possibles.'), AIMessage(content=' Sure, here is an expanded version of the chronological timeline of important dates and events in the history of France, presented in a list format for clarity:\\n\\n1. **c. 4500 BCE** - Neanderthals and modern humans coexist in present-day France, with Neanderthals likely retreating or dying out around this time.\\n\\n2. **c. 4000 BCE** - The onset of the Neolithic Revolution sees the introduction of agriculture and the creation of the first permanent settlements in the country.\\n\\n3. **1200 BCE** - Celtic tribes, notably the Gauls, arrive and settle in various regions of what will become France. They establish a Celtic culture that influences language, religion, and societal structures.\\n\\n4. **c. 550 BCE** - The Celtic Hallstatt culture flourishes in Gaul, marking technological advancements, expanded trade networks, and stylized metalwork.\\n\\n5. **c. 390 BCE** - The Gallic Wars see the expansion of the Roman Empire into parts of present-day France. They defeat the Gallic coalition led by Vercingetorix at the Battle of Alesia and establish the province of Gallia.\\n\\n6. **c. 50 BCE** - Julius Caesar establishes the city'), HumanMessage(content='Gives me the historical chronology of Spain. I want as much dates and events as possibles.'), AIMessage(content=' Sure, here is an expanded version of the chronological timeline of important dates and events in the history of Spain, presented in a list format for clarity:\\n\\n1. **c. 3500 BCE** - The Balearic Islands, among the modern-day Spanish territories, have evidence of Neolithic settlements.\\n\\n2. **c. 2100 BCE** - The Canary Islands, another Spanish territory, begin to be inhabited by Berber peoples from North Africa. \\n\\n3. **c. 1400 BCE** - The Tartessian civilization flourishes on the Iberian Peninsula, showcasing advanced metalworking, commerce, and cultural fusion.\\n\\n4. **c. 1200 BCE** - Celtic tribes, including the Celtiberians, arrive and settle in parts of the Iberian Peninsula, influencing the culture, language, and society.\\n\\n5. **c. 800 BCE** - The Phoenicians establish trading colonies in Iberian Peninsula cities like Cádiz, introducing the Iberian Peninsula to the Eastern World. \\n\\n6. **c. 201 BCE** - The Second Punic War sees the Carthaginian general Hannibal cross the Pyrenees into Italy, resulting in the collapse of Carthage at the hands of the Romans. \\n\\n7. **c. 0 BCE** - The Roman Empire'), HumanMessage(content='Gives me the historical chronology of Germany. I want as much dates and events as possibles.'), AIMessage(content=\" Here is an expanded version of the chronological timeline of important dates and events in the history of Germany, presented in a list format for clarity:\\n\\n1. **c. 10,000 BCE** - The introduction of agriculture and the beginning of permanent settlements in present-day Germany. The Maglemosian culture emerges from the hunter-gatherer societies inhabiting the area.\\n\\n2. **c. 4500 BCE** - The Upper Palaeolithic period sees the earliest evidence of modern humans in what will become Germany. The Mesolithic period that follows is characterized by hunters and fishermen living along rivers.\\n\\n3. **c. 3500 BCE** - The Neolithic Revolution spreads to Germany, seen in the establishment of the Linear Pottery culture. This signifies the transition to agriculture and the creation of new crafts.\\n\\n4. **c. 1200 BCE** - The Corded Ware culture, linked to the Indo-European Corded Ware people, influences the current day German territory and contributes to the Germanic languages and traditions.\\n\\n5. **c. 800 BCE** - Numerous Germanic tribes, including the Cimbri, Teutons, and Saxons, thrive in present-day Germany. Their impact is evident in the country's language, culture, and genetic\")]\n"
     ]
    }
   ],
   "source": [
    "# We should be able to get the whole conversation inside the memory\n",
    "print(conversation_with_summary_buffer_memory.memory.buffer)"
   ]
  },
  {
   "cell_type": "markdown",
   "id": "f94d108d-d2a8-47ab-a552-5eb970e202ca",
   "metadata": {},
   "source": [
    "#### From your observations - Gives the pros and cons of this memory \n",
    "\n",
    "##### Pros\n",
    "\n",
    "- Stores the whole conversation with human questions and AI answers, can be benefic if we want to ask a new question about a detail given by in the previous answers\n",
    "- Have advantages of of ConversationSummaryMemory and ConversationBufferMemory\n",
    "\n",
    "##### Cons\n",
    "\n",
    "- It seems that the summary of the previous question in the history part don't work well, actually it returns the whole question given by the human and the wole AI answer, in the second part (ConversationSummaryMemory) we find a summary of the previous question in the history part\n",
    "- Redundancy of information"
   ]
  }
 ],
 "metadata": {
  "kernelspec": {
   "display_name": "Python 3 (ipykernel)",
   "language": "python",
   "name": "python3"
  },
  "language_info": {
   "codemirror_mode": {
    "name": "ipython",
    "version": 3
   },
   "file_extension": ".py",
   "mimetype": "text/x-python",
   "name": "python",
   "nbconvert_exporter": "python",
   "pygments_lexer": "ipython3",
   "version": "3.11.7"
  }
 },
 "nbformat": 4,
 "nbformat_minor": 5
}
